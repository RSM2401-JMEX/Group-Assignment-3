{
 "cells": [
  {
   "cell_type": "markdown",
   "metadata": {},
   "source": [
    "# Assignment 3 \n"
   ]
  },
  {
   "cell_type": "markdown",
   "metadata": {},
   "source": [
    "__Required__ Use the provided data sets OECD_Trade.csv and OECD_GDP.csv to study Exports, Imports,\n",
    "Net Exports (defined as Exports – Imports) of countries to/from other countries, and GDPs\n",
    "of these individual countries.\n",
    "\n",
    "Hint 1: Ensure that all your graphs are properly labelled.\n",
    "\n",
    "Hint 2: To plot a legend outside of the chart, you can use\n",
    "plt.legend(loc='center left', bbox_to_anchor=(1, 0.5))."
   ]
  },
  {
   "cell_type": "code",
   "execution_count": 168,
   "metadata": {},
   "outputs": [],
   "source": [
    "# import numpy for numeric calculation\n",
    "import numpy as np"
   ]
  },
  {
   "cell_type": "code",
   "execution_count": 166,
   "metadata": {},
   "outputs": [],
   "source": [
    "# import the pandas and the read_csv function\n",
    "import pandas as pd\n",
    "from pandas import read_csv"
   ]
  },
  {
   "cell_type": "code",
   "execution_count": 2,
   "metadata": {},
   "outputs": [],
   "source": [
    "# import the plotting tool matplotlib\n",
    "import matplotlib.pyplot as plt\n",
    "%matplotlib inline\n",
    "import seaborn as sns"
   ]
  },
  {
   "cell_type": "code",
   "execution_count": 3,
   "metadata": {},
   "outputs": [],
   "source": [
    "df_oecd_trade = read_csv('OECD_Trade.csv')\n",
    "df_oecd_gdp = read_csv('OECD_GDP.csv')"
   ]
  },
  {
   "cell_type": "code",
   "execution_count": 4,
   "metadata": {},
   "outputs": [],
   "source": [
    "# THE DATA SHALL BE BASED ON THE PREVIOUS CLEANED DATA\n",
    "df_input = df_oecd_trade.copy()"
   ]
  },
  {
   "cell_type": "markdown",
   "metadata": {},
   "source": [
    "## Task 1\n",
    "\n",
    "__Required__\n",
    "Briefly explore the data sets (no visualizations required) and describe your findings. Make\n",
    "any adjustments to the data sets as needed."
   ]
  },
  {
   "cell_type": "markdown",
   "metadata": {},
   "source": [
    "__Answer__:"
   ]
  },
  {
   "cell_type": "markdown",
   "metadata": {},
   "source": [
    "### Overview\n",
    "\n",
    "A quick scan of task 2 to 5 tells us that we only concern on the individual country level data. Therefore, we do not need the data for international organizations, such as G20, OPEC, etc.\n",
    "\n",
    "For trade data, we need to analyze the flows of export and import.\n",
    "\n",
    "For GDP data, we are only interested in the country level as well.\n",
    "\n",
    "To uniform the input, we are going to use the standard column name, with space replace by \"_\"."
   ]
  },
  {
   "cell_type": "markdown",
   "metadata": {},
   "source": [
    "### OECD_Trade.csv"
   ]
  },
  {
   "cell_type": "markdown",
   "metadata": {},
   "source": [
    "#### Data Screening"
   ]
  },
  {
   "cell_type": "code",
   "execution_count": 26,
   "metadata": {},
   "outputs": [
    {
     "data": {
      "text/html": [
       "<div>\n",
       "<style scoped>\n",
       "    .dataframe tbody tr th:only-of-type {\n",
       "        vertical-align: middle;\n",
       "    }\n",
       "\n",
       "    .dataframe tbody tr th {\n",
       "        vertical-align: top;\n",
       "    }\n",
       "\n",
       "    .dataframe thead th {\n",
       "        text-align: right;\n",
       "    }\n",
       "</style>\n",
       "<table border=\"1\" class=\"dataframe\">\n",
       "  <thead>\n",
       "    <tr style=\"text-align: right;\">\n",
       "      <th></th>\n",
       "      <th>LOCATION</th>\n",
       "      <th>Reporter country</th>\n",
       "      <th>FLOW</th>\n",
       "      <th>Flow</th>\n",
       "      <th>PARTNER</th>\n",
       "      <th>Partner country</th>\n",
       "      <th>FREQUENCY</th>\n",
       "      <th>Frequency</th>\n",
       "      <th>TIME</th>\n",
       "      <th>Time</th>\n",
       "      <th>Unit Code</th>\n",
       "      <th>Unit</th>\n",
       "      <th>PowerCode Code</th>\n",
       "      <th>PowerCode</th>\n",
       "      <th>Reference Period Code</th>\n",
       "      <th>Reference Period</th>\n",
       "      <th>Value</th>\n",
       "      <th>Flag Codes</th>\n",
       "      <th>Flags</th>\n",
       "    </tr>\n",
       "  </thead>\n",
       "  <tbody>\n",
       "    <tr>\n",
       "      <th>0</th>\n",
       "      <td>AUS</td>\n",
       "      <td>Australia</td>\n",
       "      <td>EXP</td>\n",
       "      <td>Exports</td>\n",
       "      <td>AUT</td>\n",
       "      <td>Austria</td>\n",
       "      <td>A</td>\n",
       "      <td>Annual</td>\n",
       "      <td>2011</td>\n",
       "      <td>2011</td>\n",
       "      <td>USD</td>\n",
       "      <td>US Dollar</td>\n",
       "      <td>0</td>\n",
       "      <td>Units</td>\n",
       "      <td>NaN</td>\n",
       "      <td>NaN</td>\n",
       "      <td>73144918</td>\n",
       "      <td>NaN</td>\n",
       "      <td>NaN</td>\n",
       "    </tr>\n",
       "    <tr>\n",
       "      <th>1</th>\n",
       "      <td>AUS</td>\n",
       "      <td>Australia</td>\n",
       "      <td>EXP</td>\n",
       "      <td>Exports</td>\n",
       "      <td>AUT</td>\n",
       "      <td>Austria</td>\n",
       "      <td>A</td>\n",
       "      <td>Annual</td>\n",
       "      <td>2012</td>\n",
       "      <td>2012</td>\n",
       "      <td>USD</td>\n",
       "      <td>US Dollar</td>\n",
       "      <td>0</td>\n",
       "      <td>Units</td>\n",
       "      <td>NaN</td>\n",
       "      <td>NaN</td>\n",
       "      <td>71483059</td>\n",
       "      <td>NaN</td>\n",
       "      <td>NaN</td>\n",
       "    </tr>\n",
       "    <tr>\n",
       "      <th>2</th>\n",
       "      <td>AUS</td>\n",
       "      <td>Australia</td>\n",
       "      <td>EXP</td>\n",
       "      <td>Exports</td>\n",
       "      <td>AUT</td>\n",
       "      <td>Austria</td>\n",
       "      <td>A</td>\n",
       "      <td>Annual</td>\n",
       "      <td>2013</td>\n",
       "      <td>2013</td>\n",
       "      <td>USD</td>\n",
       "      <td>US Dollar</td>\n",
       "      <td>0</td>\n",
       "      <td>Units</td>\n",
       "      <td>NaN</td>\n",
       "      <td>NaN</td>\n",
       "      <td>67897422</td>\n",
       "      <td>NaN</td>\n",
       "      <td>NaN</td>\n",
       "    </tr>\n",
       "    <tr>\n",
       "      <th>3</th>\n",
       "      <td>AUS</td>\n",
       "      <td>Australia</td>\n",
       "      <td>EXP</td>\n",
       "      <td>Exports</td>\n",
       "      <td>AUT</td>\n",
       "      <td>Austria</td>\n",
       "      <td>A</td>\n",
       "      <td>Annual</td>\n",
       "      <td>2014</td>\n",
       "      <td>2014</td>\n",
       "      <td>USD</td>\n",
       "      <td>US Dollar</td>\n",
       "      <td>0</td>\n",
       "      <td>Units</td>\n",
       "      <td>NaN</td>\n",
       "      <td>NaN</td>\n",
       "      <td>61114752</td>\n",
       "      <td>NaN</td>\n",
       "      <td>NaN</td>\n",
       "    </tr>\n",
       "    <tr>\n",
       "      <th>4</th>\n",
       "      <td>AUS</td>\n",
       "      <td>Australia</td>\n",
       "      <td>EXP</td>\n",
       "      <td>Exports</td>\n",
       "      <td>AUT</td>\n",
       "      <td>Austria</td>\n",
       "      <td>A</td>\n",
       "      <td>Annual</td>\n",
       "      <td>2015</td>\n",
       "      <td>2015</td>\n",
       "      <td>USD</td>\n",
       "      <td>US Dollar</td>\n",
       "      <td>0</td>\n",
       "      <td>Units</td>\n",
       "      <td>NaN</td>\n",
       "      <td>NaN</td>\n",
       "      <td>54730242</td>\n",
       "      <td>NaN</td>\n",
       "      <td>NaN</td>\n",
       "    </tr>\n",
       "  </tbody>\n",
       "</table>\n",
       "</div>"
      ],
      "text/plain": [
       "  LOCATION Reporter country FLOW     Flow PARTNER Partner country FREQUENCY  \\\n",
       "0      AUS        Australia  EXP  Exports     AUT         Austria         A   \n",
       "1      AUS        Australia  EXP  Exports     AUT         Austria         A   \n",
       "2      AUS        Australia  EXP  Exports     AUT         Austria         A   \n",
       "3      AUS        Australia  EXP  Exports     AUT         Austria         A   \n",
       "4      AUS        Australia  EXP  Exports     AUT         Austria         A   \n",
       "\n",
       "  Frequency  TIME  Time Unit Code       Unit  PowerCode Code PowerCode  \\\n",
       "0    Annual  2011  2011       USD  US Dollar               0     Units   \n",
       "1    Annual  2012  2012       USD  US Dollar               0     Units   \n",
       "2    Annual  2013  2013       USD  US Dollar               0     Units   \n",
       "3    Annual  2014  2014       USD  US Dollar               0     Units   \n",
       "4    Annual  2015  2015       USD  US Dollar               0     Units   \n",
       "\n",
       "   Reference Period Code  Reference Period     Value  Flag Codes  Flags  \n",
       "0                    NaN               NaN  73144918         NaN    NaN  \n",
       "1                    NaN               NaN  71483059         NaN    NaN  \n",
       "2                    NaN               NaN  67897422         NaN    NaN  \n",
       "3                    NaN               NaN  61114752         NaN    NaN  \n",
       "4                    NaN               NaN  54730242         NaN    NaN  "
      ]
     },
     "execution_count": 26,
     "metadata": {},
     "output_type": "execute_result"
    }
   ],
   "source": [
    "df_oecd_trade.head(5)"
   ]
  },
  {
   "cell_type": "code",
   "execution_count": 24,
   "metadata": {},
   "outputs": [
    {
     "name": "stdout",
     "output_type": "stream",
     "text": [
      "<class 'pandas.core.frame.DataFrame'>\n",
      "RangeIndex: 29222 entries, 0 to 29221\n",
      "Data columns (total 19 columns):\n",
      " #   Column                 Non-Null Count  Dtype  \n",
      "---  ------                 --------------  -----  \n",
      " 0   LOCATION               29222 non-null  object \n",
      " 1   Reporter country       29222 non-null  object \n",
      " 2   FLOW                   29222 non-null  object \n",
      " 3   Flow                   29222 non-null  object \n",
      " 4   PARTNER                29222 non-null  object \n",
      " 5   Partner country        29222 non-null  object \n",
      " 6   FREQUENCY              29222 non-null  object \n",
      " 7   Frequency              29222 non-null  object \n",
      " 8   TIME                   29222 non-null  int64  \n",
      " 9   Time                   29222 non-null  int64  \n",
      " 10  Unit Code              29222 non-null  object \n",
      " 11  Unit                   29222 non-null  object \n",
      " 12  PowerCode Code         29222 non-null  int64  \n",
      " 13  PowerCode              29222 non-null  object \n",
      " 14  Reference Period Code  0 non-null      float64\n",
      " 15  Reference Period       0 non-null      float64\n",
      " 16  Value                  29222 non-null  int64  \n",
      " 17  Flag Codes             0 non-null      float64\n",
      " 18  Flags                  0 non-null      float64\n",
      "dtypes: float64(4), int64(4), object(11)\n",
      "memory usage: 4.2+ MB\n"
     ]
    }
   ],
   "source": [
    "df_oecd_trade.info()"
   ]
  },
  {
   "cell_type": "markdown",
   "metadata": {},
   "source": [
    "The trade data includes 19 columns. Among these, the all capitalized name data columns have the same information to the standard name data columns (for example, in FLOW, EXP refers to Export in Flow).\n",
    "\n",
    "Since we are only interested in the import ane export data for individual country. We only need the following columns -\n",
    "\n",
    "Reporter Country, Flow, Partner country, Time, Value"
   ]
  },
  {
   "cell_type": "markdown",
   "metadata": {},
   "source": [
    "##### Reporter Country"
   ]
  },
  {
   "cell_type": "code",
   "execution_count": 30,
   "metadata": {},
   "outputs": [
    {
     "data": {
      "text/plain": [
       "array(['Australia', 'Austria', 'Belgium', 'Canada', 'Czech Republic',\n",
       "       'Denmark', 'Finland', 'France', 'Germany', 'Greece', 'Hungary',\n",
       "       'Iceland', 'Ireland', 'Italy', 'Japan', 'Korea', 'Luxembourg',\n",
       "       'Mexico', 'Netherlands', 'New Zealand', 'Norway', 'Poland',\n",
       "       'Portugal', 'Slovak Republic', 'Spain', 'Sweden', 'Switzerland',\n",
       "       'Turkey', 'United Kingdom', 'United States', 'Chile', 'Estonia',\n",
       "       'Israel', 'Slovenia', 'Lithuania', 'Latvia',\n",
       "       'European Union (28 countries)'], dtype=object)"
      ]
     },
     "execution_count": 30,
     "metadata": {},
     "output_type": "execute_result"
    }
   ],
   "source": [
    "df_oecd_trade['Reporter country'].unique()"
   ]
  },
  {
   "cell_type": "markdown",
   "metadata": {},
   "source": [
    "The *European Union (28 countries)* is not an individual country. We will need to remove this row."
   ]
  },
  {
   "cell_type": "markdown",
   "metadata": {},
   "source": [
    "##### Flow"
   ]
  },
  {
   "cell_type": "code",
   "execution_count": 40,
   "metadata": {},
   "outputs": [
    {
     "data": {
      "text/plain": [
       "array(['Exports', 'Imports'], dtype=object)"
      ]
     },
     "execution_count": 40,
     "metadata": {},
     "output_type": "execute_result"
    }
   ],
   "source": [
    "df_oecd_trade['Flow'].unique()"
   ]
  },
  {
   "cell_type": "markdown",
   "metadata": {},
   "source": [
    "The column **Flow** contains two types of data, *Exports* and *Imports*."
   ]
  },
  {
   "cell_type": "markdown",
   "metadata": {},
   "source": [
    "##### Partner country"
   ]
  },
  {
   "cell_type": "code",
   "execution_count": 45,
   "metadata": {},
   "outputs": [
    {
     "data": {
      "text/plain": [
       "array(['Austria', 'Belgium', 'Canada', 'Czech Republic', 'Denmark',\n",
       "       'Finland', 'France', 'Germany', 'Greece', 'Hungary', 'Iceland',\n",
       "       'Ireland', 'Italy', 'Japan', 'Korea', 'Luxembourg', 'Mexico',\n",
       "       'Netherlands', 'New Zealand', 'Norway', 'Poland', 'Portugal',\n",
       "       'Slovak Republic', 'Spain', 'Sweden', 'Switzerland', 'Turkey',\n",
       "       'United Kingdom', 'United States', 'Argentina', 'Brazil', 'Chile',\n",
       "       \"China (People's Republic of)\", 'Estonia', 'India', 'Indonesia',\n",
       "       'Israel', 'Russia', 'Saudi Arabia', 'Slovenia', 'South Africa',\n",
       "       'Australia', 'OECD - Total', 'G20', 'Latvia', 'Lithuania',\n",
       "       'Costa Rica', 'Colombia'], dtype=object)"
      ]
     },
     "execution_count": 45,
     "metadata": {},
     "output_type": "execute_result"
    }
   ],
   "source": [
    "df_oecd_trade['Partner country'].unique()"
   ]
  },
  {
   "cell_type": "markdown",
   "metadata": {},
   "source": [
    "Following entries are **not** individual country entry. We will remove them from the input\n",
    "\n",
    "\n",
    "*OECD - Total*\n",
    "\n",
    "*G20*"
   ]
  },
  {
   "cell_type": "markdown",
   "metadata": {},
   "source": [
    "##### Time"
   ]
  },
  {
   "cell_type": "code",
   "execution_count": 55,
   "metadata": {},
   "outputs": [
    {
     "data": {
      "text/plain": [
       "array([2011, 2012, 2013, 2014, 2015, 2016, 2017, 2018, 2010])"
      ]
     },
     "execution_count": 55,
     "metadata": {},
     "output_type": "execute_result"
    }
   ],
   "source": [
    "df_oecd_trade['Time'].unique()"
   ]
  },
  {
   "cell_type": "markdown",
   "metadata": {},
   "source": [
    "The column **Time** is a series of year data from 2010 to 2018 continuously. It is in *int* type. Since we do not involve the month, day, hour and other time data, we feel comfortable of using integer to indicate the time in this question."
   ]
  },
  {
   "cell_type": "markdown",
   "metadata": {},
   "source": [
    "##### Value"
   ]
  },
  {
   "cell_type": "markdown",
   "metadata": {},
   "source": [
    "The column **Value** is in integer type. It is better to convert in into float type."
   ]
  },
  {
   "cell_type": "markdown",
   "metadata": {},
   "source": [
    "#### Data Cleaning"
   ]
  },
  {
   "cell_type": "code",
   "execution_count": 92,
   "metadata": {},
   "outputs": [
    {
     "name": "stdout",
     "output_type": "stream",
     "text": [
      "<class 'pandas.core.frame.DataFrame'>\n",
      "Int64Index: 27728 entries, 0 to 29036\n",
      "Data columns (total 5 columns):\n",
      " #   Column            Non-Null Count  Dtype  \n",
      "---  ------            --------------  -----  \n",
      " 0   reporter_country  27728 non-null  object \n",
      " 1   flow              27728 non-null  object \n",
      " 2   partner_country   27728 non-null  object \n",
      " 3   time              27728 non-null  int64  \n",
      " 4   value             27728 non-null  float64\n",
      "dtypes: float64(1), int64(1), object(3)\n",
      "memory usage: 1.3+ MB\n"
     ]
    },
    {
     "data": {
      "text/html": [
       "<div>\n",
       "<style scoped>\n",
       "    .dataframe tbody tr th:only-of-type {\n",
       "        vertical-align: middle;\n",
       "    }\n",
       "\n",
       "    .dataframe tbody tr th {\n",
       "        vertical-align: top;\n",
       "    }\n",
       "\n",
       "    .dataframe thead th {\n",
       "        text-align: right;\n",
       "    }\n",
       "</style>\n",
       "<table border=\"1\" class=\"dataframe\">\n",
       "  <thead>\n",
       "    <tr style=\"text-align: right;\">\n",
       "      <th></th>\n",
       "      <th>reporter_country</th>\n",
       "      <th>flow</th>\n",
       "      <th>partner_country</th>\n",
       "      <th>time</th>\n",
       "      <th>value</th>\n",
       "    </tr>\n",
       "  </thead>\n",
       "  <tbody>\n",
       "    <tr>\n",
       "      <th>0</th>\n",
       "      <td>Australia</td>\n",
       "      <td>Exports</td>\n",
       "      <td>Austria</td>\n",
       "      <td>2011</td>\n",
       "      <td>73144918.0</td>\n",
       "    </tr>\n",
       "    <tr>\n",
       "      <th>1</th>\n",
       "      <td>Australia</td>\n",
       "      <td>Exports</td>\n",
       "      <td>Austria</td>\n",
       "      <td>2012</td>\n",
       "      <td>71483059.0</td>\n",
       "    </tr>\n",
       "    <tr>\n",
       "      <th>2</th>\n",
       "      <td>Australia</td>\n",
       "      <td>Exports</td>\n",
       "      <td>Austria</td>\n",
       "      <td>2013</td>\n",
       "      <td>67897422.0</td>\n",
       "    </tr>\n",
       "    <tr>\n",
       "      <th>3</th>\n",
       "      <td>Australia</td>\n",
       "      <td>Exports</td>\n",
       "      <td>Austria</td>\n",
       "      <td>2014</td>\n",
       "      <td>61114752.0</td>\n",
       "    </tr>\n",
       "    <tr>\n",
       "      <th>4</th>\n",
       "      <td>Australia</td>\n",
       "      <td>Exports</td>\n",
       "      <td>Austria</td>\n",
       "      <td>2015</td>\n",
       "      <td>54730242.0</td>\n",
       "    </tr>\n",
       "  </tbody>\n",
       "</table>\n",
       "</div>"
      ],
      "text/plain": [
       "  reporter_country     flow partner_country  time       value\n",
       "0        Australia  Exports         Austria  2011  73144918.0\n",
       "1        Australia  Exports         Austria  2012  71483059.0\n",
       "2        Australia  Exports         Austria  2013  67897422.0\n",
       "3        Australia  Exports         Austria  2014  61114752.0\n",
       "4        Australia  Exports         Austria  2015  54730242.0"
      ]
     },
     "execution_count": 92,
     "metadata": {},
     "output_type": "execute_result"
    }
   ],
   "source": [
    "# Created copy\n",
    "df_in_trade = df_oecd_trade.copy()\n",
    "\n",
    "# Retrieve required data\n",
    "list_in_trade = ['Reporter country', 'Flow', 'Partner country', 'Time', 'Value']\n",
    "\n",
    "# Standarized column name\n",
    "dict_in_trade = {key: key.lower().replace(' ', '_') for key in list_in_trade}\n",
    "\n",
    "# Work on the data\n",
    "df_in_trade = df_in_trade[list_in_trade].rename(columns=dict_in_trade)\n",
    "\n",
    "df_in_trade = df_in_trade[# Filter begins here\n",
    "    # filter out the Europen Union in reporter country\n",
    "    (df_in_trade.reporter_country != 'European Union (28 countries)') &\n",
    "    # filter out the OECD - Total and the G20\n",
    "    (~df_in_trade.partner_country.isin(['OECD - Total', 'G20']))]\n",
    "\n",
    "# Change value to float type\n",
    "\n",
    "df_in_trade.value = df_in_trade.value.astype(float)\n",
    "\n",
    "# Check the final result\n",
    "df_in_trade.info()\n",
    "\n",
    "df_in_trade.head(5)"
   ]
  },
  {
   "cell_type": "markdown",
   "metadata": {},
   "source": [
    "### OECD_GDP.csv\n"
   ]
  },
  {
   "cell_type": "markdown",
   "metadata": {},
   "source": [
    "#### Data Screening"
   ]
  },
  {
   "cell_type": "code",
   "execution_count": 95,
   "metadata": {},
   "outputs": [
    {
     "name": "stdout",
     "output_type": "stream",
     "text": [
      "<class 'pandas.core.frame.DataFrame'>\n",
      "RangeIndex: 345 entries, 0 to 344\n",
      "Data columns (total 17 columns):\n",
      " #   Column                 Non-Null Count  Dtype  \n",
      "---  ------                 --------------  -----  \n",
      " 0   LOCATION               345 non-null    object \n",
      " 1   Country                345 non-null    object \n",
      " 2   TRANSACT               345 non-null    object \n",
      " 3   Transaction            345 non-null    object \n",
      " 4   MEASURE                345 non-null    object \n",
      " 5   Measure                345 non-null    object \n",
      " 6   TIME                   345 non-null    int64  \n",
      " 7   Year                   345 non-null    int64  \n",
      " 8   Unit Code              345 non-null    object \n",
      " 9   Unit                   345 non-null    object \n",
      " 10  PowerCode Code         345 non-null    int64  \n",
      " 11  PowerCode              345 non-null    object \n",
      " 12  Reference Period Code  0 non-null      float64\n",
      " 13  Reference Period       0 non-null      float64\n",
      " 14  Value                  345 non-null    float64\n",
      " 15  Flag Codes             23 non-null     object \n",
      " 16  Flags                  23 non-null     object \n",
      "dtypes: float64(3), int64(3), object(11)\n",
      "memory usage: 45.9+ KB\n"
     ]
    },
    {
     "data": {
      "text/html": [
       "<div>\n",
       "<style scoped>\n",
       "    .dataframe tbody tr th:only-of-type {\n",
       "        vertical-align: middle;\n",
       "    }\n",
       "\n",
       "    .dataframe tbody tr th {\n",
       "        vertical-align: top;\n",
       "    }\n",
       "\n",
       "    .dataframe thead th {\n",
       "        text-align: right;\n",
       "    }\n",
       "</style>\n",
       "<table border=\"1\" class=\"dataframe\">\n",
       "  <thead>\n",
       "    <tr style=\"text-align: right;\">\n",
       "      <th></th>\n",
       "      <th>LOCATION</th>\n",
       "      <th>Country</th>\n",
       "      <th>TRANSACT</th>\n",
       "      <th>Transaction</th>\n",
       "      <th>MEASURE</th>\n",
       "      <th>Measure</th>\n",
       "      <th>TIME</th>\n",
       "      <th>Year</th>\n",
       "      <th>Unit Code</th>\n",
       "      <th>Unit</th>\n",
       "      <th>PowerCode Code</th>\n",
       "      <th>PowerCode</th>\n",
       "      <th>Reference Period Code</th>\n",
       "      <th>Reference Period</th>\n",
       "      <th>Value</th>\n",
       "      <th>Flag Codes</th>\n",
       "      <th>Flags</th>\n",
       "    </tr>\n",
       "  </thead>\n",
       "  <tbody>\n",
       "    <tr>\n",
       "      <th>0</th>\n",
       "      <td>AUS</td>\n",
       "      <td>Australia</td>\n",
       "      <td>B1_GA</td>\n",
       "      <td>Gross domestic product (output approach)</td>\n",
       "      <td>CXC</td>\n",
       "      <td>Current prices, current exchange rates</td>\n",
       "      <td>2010</td>\n",
       "      <td>2010</td>\n",
       "      <td>USD</td>\n",
       "      <td>US Dollar</td>\n",
       "      <td>6</td>\n",
       "      <td>Millions</td>\n",
       "      <td>NaN</td>\n",
       "      <td>NaN</td>\n",
       "      <td>1.299463e+06</td>\n",
       "      <td>NaN</td>\n",
       "      <td>NaN</td>\n",
       "    </tr>\n",
       "    <tr>\n",
       "      <th>1</th>\n",
       "      <td>AUS</td>\n",
       "      <td>Australia</td>\n",
       "      <td>B1_GA</td>\n",
       "      <td>Gross domestic product (output approach)</td>\n",
       "      <td>CXC</td>\n",
       "      <td>Current prices, current exchange rates</td>\n",
       "      <td>2011</td>\n",
       "      <td>2011</td>\n",
       "      <td>USD</td>\n",
       "      <td>US Dollar</td>\n",
       "      <td>6</td>\n",
       "      <td>Millions</td>\n",
       "      <td>NaN</td>\n",
       "      <td>NaN</td>\n",
       "      <td>1.546689e+06</td>\n",
       "      <td>NaN</td>\n",
       "      <td>NaN</td>\n",
       "    </tr>\n",
       "    <tr>\n",
       "      <th>2</th>\n",
       "      <td>AUS</td>\n",
       "      <td>Australia</td>\n",
       "      <td>B1_GA</td>\n",
       "      <td>Gross domestic product (output approach)</td>\n",
       "      <td>CXC</td>\n",
       "      <td>Current prices, current exchange rates</td>\n",
       "      <td>2012</td>\n",
       "      <td>2012</td>\n",
       "      <td>USD</td>\n",
       "      <td>US Dollar</td>\n",
       "      <td>6</td>\n",
       "      <td>Millions</td>\n",
       "      <td>NaN</td>\n",
       "      <td>NaN</td>\n",
       "      <td>1.590708e+06</td>\n",
       "      <td>NaN</td>\n",
       "      <td>NaN</td>\n",
       "    </tr>\n",
       "    <tr>\n",
       "      <th>3</th>\n",
       "      <td>AUS</td>\n",
       "      <td>Australia</td>\n",
       "      <td>B1_GA</td>\n",
       "      <td>Gross domestic product (output approach)</td>\n",
       "      <td>CXC</td>\n",
       "      <td>Current prices, current exchange rates</td>\n",
       "      <td>2013</td>\n",
       "      <td>2013</td>\n",
       "      <td>USD</td>\n",
       "      <td>US Dollar</td>\n",
       "      <td>6</td>\n",
       "      <td>Millions</td>\n",
       "      <td>NaN</td>\n",
       "      <td>NaN</td>\n",
       "      <td>1.543216e+06</td>\n",
       "      <td>NaN</td>\n",
       "      <td>NaN</td>\n",
       "    </tr>\n",
       "    <tr>\n",
       "      <th>4</th>\n",
       "      <td>AUS</td>\n",
       "      <td>Australia</td>\n",
       "      <td>B1_GA</td>\n",
       "      <td>Gross domestic product (output approach)</td>\n",
       "      <td>CXC</td>\n",
       "      <td>Current prices, current exchange rates</td>\n",
       "      <td>2014</td>\n",
       "      <td>2014</td>\n",
       "      <td>USD</td>\n",
       "      <td>US Dollar</td>\n",
       "      <td>6</td>\n",
       "      <td>Millions</td>\n",
       "      <td>NaN</td>\n",
       "      <td>NaN</td>\n",
       "      <td>1.464256e+06</td>\n",
       "      <td>NaN</td>\n",
       "      <td>NaN</td>\n",
       "    </tr>\n",
       "  </tbody>\n",
       "</table>\n",
       "</div>"
      ],
      "text/plain": [
       "  LOCATION    Country TRANSACT                               Transaction  \\\n",
       "0      AUS  Australia    B1_GA  Gross domestic product (output approach)   \n",
       "1      AUS  Australia    B1_GA  Gross domestic product (output approach)   \n",
       "2      AUS  Australia    B1_GA  Gross domestic product (output approach)   \n",
       "3      AUS  Australia    B1_GA  Gross domestic product (output approach)   \n",
       "4      AUS  Australia    B1_GA  Gross domestic product (output approach)   \n",
       "\n",
       "  MEASURE                                 Measure  TIME  Year Unit Code  \\\n",
       "0     CXC  Current prices, current exchange rates  2010  2010       USD   \n",
       "1     CXC  Current prices, current exchange rates  2011  2011       USD   \n",
       "2     CXC  Current prices, current exchange rates  2012  2012       USD   \n",
       "3     CXC  Current prices, current exchange rates  2013  2013       USD   \n",
       "4     CXC  Current prices, current exchange rates  2014  2014       USD   \n",
       "\n",
       "        Unit  PowerCode Code PowerCode  Reference Period Code  \\\n",
       "0  US Dollar               6  Millions                    NaN   \n",
       "1  US Dollar               6  Millions                    NaN   \n",
       "2  US Dollar               6  Millions                    NaN   \n",
       "3  US Dollar               6  Millions                    NaN   \n",
       "4  US Dollar               6  Millions                    NaN   \n",
       "\n",
       "   Reference Period         Value Flag Codes Flags  \n",
       "0               NaN  1.299463e+06        NaN   NaN  \n",
       "1               NaN  1.546689e+06        NaN   NaN  \n",
       "2               NaN  1.590708e+06        NaN   NaN  \n",
       "3               NaN  1.543216e+06        NaN   NaN  \n",
       "4               NaN  1.464256e+06        NaN   NaN  "
      ]
     },
     "execution_count": 95,
     "metadata": {},
     "output_type": "execute_result"
    }
   ],
   "source": [
    "df_oecd_gdp.info()\n",
    "df_oecd_gdp.head(5)"
   ]
  },
  {
   "cell_type": "markdown",
   "metadata": {},
   "source": [
    "The trade data includes 17 columns. Among these, the all capitalized name data columns have the same information to the standard name data columns (for example, in LOCATION, AUS refers to Australia in Country).\n",
    "\n",
    "The GDP data contains GDP value for each country. We need to check if they are in the same measuring scale (like Unit, PowerCode, etc.) If they are not in the same measuring scale, we need to convert them to the same measuring scale. If they are in the same measuring scale, we will drop this column.\n",
    "\n",
    "We are only interested in the country column and the value. We will go through each column despite the Value column."
   ]
  },
  {
   "cell_type": "code",
   "execution_count": 96,
   "metadata": {},
   "outputs": [
    {
     "name": "stdout",
     "output_type": "stream",
     "text": [
      "column 'LOCATION' unique value is : ['AUS' 'AUT' 'BEL' 'CAN' 'CZE' 'DNK' 'FIN' 'FRA' 'DEU' 'GRC' 'LUX' 'MEX'\n",
      " 'PRT' 'ESP' 'SWE' 'CHE' 'GBR' 'EST' 'CHN' 'RUS' 'CHL' 'SVK' 'NZL' 'IRL'\n",
      " 'HUN' 'POL' 'IDN' 'IND' 'KOR' 'JPN' 'SVN' 'ISL' 'NLD' 'NOR' 'TUR' 'ITA'\n",
      " 'USA' 'EU28' 'ISR' 'BRA']\n",
      "column 'Country' unique value is : ['Australia' 'Austria' 'Belgium' 'Canada' 'Czech Republic' 'Denmark'\n",
      " 'Finland' 'France' 'Germany' 'Greece' 'Luxembourg' 'Mexico' 'Portugal'\n",
      " 'Spain' 'Sweden' 'Switzerland' 'United Kingdom' 'Estonia'\n",
      " \"China (People's Republic of)\" 'Russia' 'Chile' 'Slovak Republic'\n",
      " 'New Zealand' 'Ireland' 'Hungary' 'Poland' 'Indonesia' 'India' 'Korea'\n",
      " 'Japan' 'Slovenia' 'Iceland' 'Netherlands' 'Norway' 'Turkey' 'Italy'\n",
      " 'United States' 'European Union (28 countries)' 'Israel' 'Brazil']\n",
      "column 'TRANSACT' unique value is : ['B1_GA']\n",
      "column 'Transaction' unique value is : ['Gross domestic product (output approach)']\n",
      "column 'MEASURE' unique value is : ['CXC']\n",
      "column 'Measure' unique value is : ['Current prices, current exchange rates']\n",
      "column 'TIME' unique value is : [2010 2011 2012 2013 2014 2015 2016 2017 2018]\n",
      "column 'Year' unique value is : [2010 2011 2012 2013 2014 2015 2016 2017 2018]\n",
      "column 'Unit Code' unique value is : ['USD']\n",
      "column 'Unit' unique value is : ['US Dollar']\n",
      "column 'PowerCode Code' unique value is : [6]\n",
      "column 'PowerCode' unique value is : ['Millions']\n",
      "column 'Reference Period Code' unique value is : [nan]\n",
      "column 'Reference Period' unique value is : [nan]\n"
     ]
    }
   ],
   "source": [
    "for col in df_oecd_gdp.columns:\n",
    "    # we don't need to check the Value column\n",
    "    if col == 'Value':\n",
    "        break;\n",
    "    print('column \\'{}\\' unique value is : {}'.format(col, df_oecd_gdp[col].unique()))"
   ]
  },
  {
   "cell_type": "markdown",
   "metadata": {},
   "source": [
    "We can find that the **Value** data is in million US dollars.\n",
    "\n",
    "We find that **all columns** except **LOCATION**, **Country**, **TIME** and **Year** include only one value. Therefore, We can safely only reamin the following columns to restrict our analysis.\n",
    "\n",
    "We only need following columns -\n",
    "\n",
    "Country\n",
    "Year\n",
    "Value\n",
    "\n",
    "##### Country\n",
    "The *European Union (28 countries)* is not an individual country. We will need to remove this row. What's more, in order to be in the same as the trade data, we shall rename this column into **reporter_country**\n",
    "\n",
    "##### Year\n",
    "The column **Year** is a series of year data from 2010 to 2018 continuously. It is in *int* type. Since we do not involve the month, day, hour and other time data, we feel comfortable of using integer to indicate the time in this question. What's more, in order to be in the same as the trade data, we shall rename this column into **time**\n",
    "\n",
    "\n",
    "##### Value\n",
    "We feel comfortable about the column **Value**."
   ]
  },
  {
   "cell_type": "markdown",
   "metadata": {},
   "source": [
    "#### Data Cleaning"
   ]
  },
  {
   "cell_type": "code",
   "execution_count": 99,
   "metadata": {},
   "outputs": [
    {
     "name": "stdout",
     "output_type": "stream",
     "text": [
      "<class 'pandas.core.frame.DataFrame'>\n",
      "Int64Index: 336 entries, 0 to 344\n",
      "Data columns (total 3 columns):\n",
      " #   Column            Non-Null Count  Dtype  \n",
      "---  ------            --------------  -----  \n",
      " 0   reporter_country  336 non-null    object \n",
      " 1   time              336 non-null    int64  \n",
      " 2   value             336 non-null    float64\n",
      "dtypes: float64(1), int64(1), object(1)\n",
      "memory usage: 10.5+ KB\n"
     ]
    },
    {
     "data": {
      "text/html": [
       "<div>\n",
       "<style scoped>\n",
       "    .dataframe tbody tr th:only-of-type {\n",
       "        vertical-align: middle;\n",
       "    }\n",
       "\n",
       "    .dataframe tbody tr th {\n",
       "        vertical-align: top;\n",
       "    }\n",
       "\n",
       "    .dataframe thead th {\n",
       "        text-align: right;\n",
       "    }\n",
       "</style>\n",
       "<table border=\"1\" class=\"dataframe\">\n",
       "  <thead>\n",
       "    <tr style=\"text-align: right;\">\n",
       "      <th></th>\n",
       "      <th>reporter_country</th>\n",
       "      <th>time</th>\n",
       "      <th>value</th>\n",
       "    </tr>\n",
       "  </thead>\n",
       "  <tbody>\n",
       "    <tr>\n",
       "      <th>0</th>\n",
       "      <td>Australia</td>\n",
       "      <td>2010</td>\n",
       "      <td>1.299463e+06</td>\n",
       "    </tr>\n",
       "    <tr>\n",
       "      <th>1</th>\n",
       "      <td>Australia</td>\n",
       "      <td>2011</td>\n",
       "      <td>1.546689e+06</td>\n",
       "    </tr>\n",
       "    <tr>\n",
       "      <th>2</th>\n",
       "      <td>Australia</td>\n",
       "      <td>2012</td>\n",
       "      <td>1.590708e+06</td>\n",
       "    </tr>\n",
       "    <tr>\n",
       "      <th>3</th>\n",
       "      <td>Australia</td>\n",
       "      <td>2013</td>\n",
       "      <td>1.543216e+06</td>\n",
       "    </tr>\n",
       "    <tr>\n",
       "      <th>4</th>\n",
       "      <td>Australia</td>\n",
       "      <td>2014</td>\n",
       "      <td>1.464256e+06</td>\n",
       "    </tr>\n",
       "  </tbody>\n",
       "</table>\n",
       "</div>"
      ],
      "text/plain": [
       "  reporter_country  time         value\n",
       "0        Australia  2010  1.299463e+06\n",
       "1        Australia  2011  1.546689e+06\n",
       "2        Australia  2012  1.590708e+06\n",
       "3        Australia  2013  1.543216e+06\n",
       "4        Australia  2014  1.464256e+06"
      ]
     },
     "execution_count": 99,
     "metadata": {},
     "output_type": "execute_result"
    }
   ],
   "source": [
    "# Created copy\n",
    "df_in_gdp = df_oecd_gdp.copy()\n",
    "\n",
    "# Retrieve required data\n",
    "list_in_gdp = ['Country', 'Year', 'Value']\n",
    "\n",
    "# Standarized column name\n",
    "dict_in_gdp = {'Country':'reporter_country', 'Year':'time','Value':'value'}\n",
    "\n",
    "# Work on the data\n",
    "df_in_gdp = df_in_gdp[list_in_gdp].rename(columns=dict_in_gdp)\n",
    "\n",
    "df_in_gdp = df_in_gdp[# Filter begins here\n",
    "    # filter out the Europen Union in reporter country\n",
    "    (df_in_gdp.reporter_country != 'European Union (28 countries)')]\n",
    "\n",
    "\n",
    "# Check the final result\n",
    "df_in_gdp.info()\n",
    "\n",
    "df_in_gdp.head(5)"
   ]
  },
  {
   "cell_type": "markdown",
   "metadata": {},
   "source": [
    "### Sum up\n",
    "\n",
    "We now have prepared two input data - *df_in_trade* and *df_in_gdp*, for our following question. All of these data has an time range from 2010 to 2018. The share same standard column names."
   ]
  },
  {
   "cell_type": "markdown",
   "metadata": {},
   "source": [
    "## Task 2A"
   ]
  },
  {
   "cell_type": "markdown",
   "metadata": {},
   "source": [
    "i. Create a line chart showing the total annual import and export of all countries combined\n",
    "for each year from 2010 to 2018."
   ]
  },
  {
   "cell_type": "code",
   "execution_count": 133,
   "metadata": {},
   "outputs": [
    {
     "data": {
      "text/plain": [
       "<matplotlib.axes._subplots.AxesSubplot at 0x1a2a9e7190>"
      ]
     },
     "execution_count": 133,
     "metadata": {},
     "output_type": "execute_result"
    },
    {
     "data": {
      "image/png": "[encoded data removed]",
      "text/plain": [
       "<Figure size 432x288 with 1 Axes>"
      ]
     },
     "metadata": {
      "needs_background": "light"
     },
     "output_type": "display_data"
    }
   ],
   "source": [
    "# From Task 1, we know the year range is from 2010 to 2018, so no filter shall be adopted to this question.\n",
    "# In the following question, unless specified, we will not adopt filter to the time column\n",
    "\n",
    "# We want to sum them by the time and flow level (ignore country) (sum()). We want to unstack the last column flow into\n",
    "# two specified columns (unstack()).\n",
    "df_exports_imports_time_all = df_in_trade.set_index(\n",
    "    ['reporter_country', 'time', 'flow']).groupby(['time', 'flow']).sum().unstack().reset_index()\n",
    "\n",
    "# reassign standard column names\n",
    "df_exports_imports_time_all.columns = ['time', 'exports', 'imports']\n",
    "\n",
    "# set index for time, which is the x-asix\n",
    "df_exports_imports_time_all = df_exports_imports_time_all.set_index('time')\n",
    "\n",
    "# plot\n",
    "df_exports_imports_time_all.plot()"
   ]
  },
  {
   "cell_type": "markdown",
   "metadata": {},
   "source": [
    "ii. Create a line chart showing the total net export of all countries combined for each year\n",
    "from 2010 to 2018."
   ]
  },
  {
   "cell_type": "code",
   "execution_count": 194,
   "metadata": {},
   "outputs": [
    {
     "data": {
      "text/plain": [
       "<matplotlib.axes._subplots.AxesSubplot at 0x1a2bbcb690>"
      ]
     },
     "execution_count": 194,
     "metadata": {},
     "output_type": "execute_result"
    },
    {
     "data": {
      "image/png": "[encoded data removed]",
      "text/plain": [
       "<Figure size 432x288 with 1 Axes>"
      ]
     },
     "metadata": {
      "needs_background": "light"
     },
     "output_type": "display_data"
    }
   ],
   "source": [
    "# This question will be based on the Task 2A - i. Run Task 2A - i before you run this cell.\n",
    "df_exports_imports_netexports_all = df_exports_imports_time_all.copy()\n",
    "\n",
    "df_exports_imports_netexports_all['net_exports'] = df_exports_imports_netexports_all.exports - df_exports_imports_netexports_all.imports\n",
    "\n",
    "pd.DataFrame(df_exports_imports_netexports_all.net_exports).plot()"
   ]
  },
  {
   "cell_type": "markdown",
   "metadata": {},
   "source": [
    "iii. Create a line chart showing the total GDP of all countries combined for each year from\n",
    "2010 to 2018."
   ]
  },
  {
   "cell_type": "code",
   "execution_count": 205,
   "metadata": {},
   "outputs": [
    {
     "data": {
      "text/plain": [
       "<matplotlib.axes._subplots.AxesSubplot at 0x1a2c3ba890>"
      ]
     },
     "execution_count": 205,
     "metadata": {},
     "output_type": "execute_result"
    },
    {
     "data": {
      "image/png": "[encoded data removed]",
      "text/plain": [
       "<Figure size 432x288 with 1 Axes>"
      ]
     },
     "metadata": {
      "needs_background": "light"
     },
     "output_type": "display_data"
    }
   ],
   "source": [
    "# This is based on the GDP data\n",
    "df_gdp_all = df_in_gdp.groupby(['time']).sum().rename(columns={'value':'gdp'})\n",
    "df_gdp_all.plot()"
   ]
  },
  {
   "cell_type": "markdown",
   "metadata": {},
   "source": [
    "iv. Do you detect any anomalies in the GDP chart? If so, what might be the cause?"
   ]
  },
  {
   "cell_type": "markdown",
   "metadata": {},
   "source": [
    "Yes. We find the total GDP of 2018 drops significantly. However, there are not severe crisis in 2018 (like Word War or financial crisis in 1921). But the data in 2017 appears to be normal comparing to the previous data. We want to check what causes the sudden drop of result from 2017 to 2018."
   ]
  },
  {
   "cell_type": "code",
   "execution_count": 206,
   "metadata": {},
   "outputs": [
    {
     "data": {
      "text/html": [
       "<div>\n",
       "<style scoped>\n",
       "    .dataframe tbody tr th:only-of-type {\n",
       "        vertical-align: middle;\n",
       "    }\n",
       "\n",
       "    .dataframe tbody tr th {\n",
       "        vertical-align: top;\n",
       "    }\n",
       "\n",
       "    .dataframe thead th {\n",
       "        text-align: right;\n",
       "    }\n",
       "</style>\n",
       "<table border=\"1\" class=\"dataframe\">\n",
       "  <thead>\n",
       "    <tr style=\"text-align: right;\">\n",
       "      <th></th>\n",
       "      <th>country</th>\n",
       "      <th>2017</th>\n",
       "      <th>2018</th>\n",
       "    </tr>\n",
       "  </thead>\n",
       "  <tbody>\n",
       "    <tr>\n",
       "      <th>0</th>\n",
       "      <td>Australia</td>\n",
       "      <td>1.416105e+06</td>\n",
       "      <td>NaN</td>\n",
       "    </tr>\n",
       "    <tr>\n",
       "      <th>3</th>\n",
       "      <td>Canada</td>\n",
       "      <td>1.647120e+06</td>\n",
       "      <td>NaN</td>\n",
       "    </tr>\n",
       "    <tr>\n",
       "      <th>14</th>\n",
       "      <td>Iceland</td>\n",
       "      <td>2.448949e+04</td>\n",
       "      <td>NaN</td>\n",
       "    </tr>\n",
       "    <tr>\n",
       "      <th>15</th>\n",
       "      <td>India</td>\n",
       "      <td>2.575667e+06</td>\n",
       "      <td>NaN</td>\n",
       "    </tr>\n",
       "    <tr>\n",
       "      <th>18</th>\n",
       "      <td>Israel</td>\n",
       "      <td>3.532684e+05</td>\n",
       "      <td>NaN</td>\n",
       "    </tr>\n",
       "    <tr>\n",
       "      <th>20</th>\n",
       "      <td>Japan</td>\n",
       "      <td>4.859951e+06</td>\n",
       "      <td>NaN</td>\n",
       "    </tr>\n",
       "    <tr>\n",
       "      <th>21</th>\n",
       "      <td>Korea</td>\n",
       "      <td>1.530751e+06</td>\n",
       "      <td>NaN</td>\n",
       "    </tr>\n",
       "    <tr>\n",
       "      <th>23</th>\n",
       "      <td>Mexico</td>\n",
       "      <td>1.158229e+06</td>\n",
       "      <td>NaN</td>\n",
       "    </tr>\n",
       "    <tr>\n",
       "      <th>35</th>\n",
       "      <td>United States</td>\n",
       "      <td>1.948539e+07</td>\n",
       "      <td>NaN</td>\n",
       "    </tr>\n",
       "  </tbody>\n",
       "</table>\n",
       "</div>"
      ],
      "text/plain": [
       "          country          2017  2018\n",
       "0       Australia  1.416105e+06   NaN\n",
       "3          Canada  1.647120e+06   NaN\n",
       "14        Iceland  2.448949e+04   NaN\n",
       "15          India  2.575667e+06   NaN\n",
       "18         Israel  3.532684e+05   NaN\n",
       "20          Japan  4.859951e+06   NaN\n",
       "21          Korea  1.530751e+06   NaN\n",
       "23         Mexico  1.158229e+06   NaN\n",
       "35  United States  1.948539e+07   NaN"
      ]
     },
     "execution_count": 206,
     "metadata": {},
     "output_type": "execute_result"
    }
   ],
   "source": [
    "df_gdp_by_country_20172018 = df_in_gdp[(df_in_gdp.time == 2017) | (df_in_gdp.time == 2018)].set_index(['reporter_country', 'time']).unstack().reset_index()\n",
    "df_gdp_by_country_20172018.columns = ['country', '2017' , '2018']\n",
    "df_gdp_by_country_20172018[df_gdp_by_country_20172018.isnull().any(axis=1)]"
   ]
  },
  {
   "cell_type": "markdown",
   "metadata": {},
   "source": [
    "From the previous table, we find there are many missing data in this table. We are missing data from many countries, including some major countries."
   ]
  },
  {
   "cell_type": "markdown",
   "metadata": {},
   "source": [
    "## Task 2B"
   ]
  },
  {
   "cell_type": "markdown",
   "metadata": {},
   "source": [
    "i. Using the annual summaries you created in the previous part A of this task, create six\n",
    "scatterplots, pairwise, of the measures export, import, net export and GDP."
   ]
  },
  {
   "cell_type": "code",
   "execution_count": 198,
   "metadata": {},
   "outputs": [
    {
     "data": {
      "text/html": [
       "<div>\n",
       "<style scoped>\n",
       "    .dataframe tbody tr th:only-of-type {\n",
       "        vertical-align: middle;\n",
       "    }\n",
       "\n",
       "    .dataframe tbody tr th {\n",
       "        vertical-align: top;\n",
       "    }\n",
       "\n",
       "    .dataframe thead th {\n",
       "        text-align: right;\n",
       "    }\n",
       "</style>\n",
       "<table border=\"1\" class=\"dataframe\">\n",
       "  <thead>\n",
       "    <tr style=\"text-align: right;\">\n",
       "      <th></th>\n",
       "      <th>exports</th>\n",
       "      <th>imports</th>\n",
       "      <th>net_exports</th>\n",
       "    </tr>\n",
       "    <tr>\n",
       "      <th>time</th>\n",
       "      <th></th>\n",
       "      <th></th>\n",
       "      <th></th>\n",
       "    </tr>\n",
       "  </thead>\n",
       "  <tbody>\n",
       "    <tr>\n",
       "      <th>2010</th>\n",
       "      <td>7.112767e+12</td>\n",
       "      <td>7.764138e+12</td>\n",
       "      <td>-6.513710e+11</td>\n",
       "    </tr>\n",
       "    <tr>\n",
       "      <th>2011</th>\n",
       "      <td>8.497087e+12</td>\n",
       "      <td>9.264077e+12</td>\n",
       "      <td>-7.669896e+11</td>\n",
       "    </tr>\n",
       "    <tr>\n",
       "      <th>2012</th>\n",
       "      <td>8.252388e+12</td>\n",
       "      <td>9.048671e+12</td>\n",
       "      <td>-7.962827e+11</td>\n",
       "    </tr>\n",
       "    <tr>\n",
       "      <th>2013</th>\n",
       "      <td>8.744195e+12</td>\n",
       "      <td>9.388439e+12</td>\n",
       "      <td>-6.442436e+11</td>\n",
       "    </tr>\n",
       "    <tr>\n",
       "      <th>2014</th>\n",
       "      <td>8.792034e+12</td>\n",
       "      <td>9.570496e+12</td>\n",
       "      <td>-7.784620e+11</td>\n",
       "    </tr>\n",
       "  </tbody>\n",
       "</table>\n",
       "</div>"
      ],
      "text/plain": [
       "           exports       imports   net_exports\n",
       "time                                          \n",
       "2010  7.112767e+12  7.764138e+12 -6.513710e+11\n",
       "2011  8.497087e+12  9.264077e+12 -7.669896e+11\n",
       "2012  8.252388e+12  9.048671e+12 -7.962827e+11\n",
       "2013  8.744195e+12  9.388439e+12 -6.442436e+11\n",
       "2014  8.792034e+12  9.570496e+12 -7.784620e+11"
      ]
     },
     "execution_count": 198,
     "metadata": {},
     "output_type": "execute_result"
    }
   ],
   "source": [
    "# Prepare data\n",
    "df_exports_imports_netexports_all.head(5)\n",
    "\n",
    "df_gdp_all.head(5)"
   ]
  },
  {
   "cell_type": "code",
   "execution_count": 219,
   "metadata": {},
   "outputs": [
    {
     "data": {
      "text/plain": [
       "Text(0.5, 1.0, 'Net Exports vs GDP')"
      ]
     },
     "execution_count": 219,
     "metadata": {},
     "output_type": "execute_result"
    },
    {
     "data": {
      "image/png": "[encoded data removed]",
      "text/plain": [
       "<Figure size 432x288 with 6 Axes>"
      ]
     },
     "metadata": {
      "needs_background": "light"
     },
     "output_type": "display_data"
    }
   ],
   "source": [
    "# We are going to plot on a 3 * 2 subplot\n",
    "plt.clf()\n",
    "# exports vs imports\n",
    "plt.subplot(3, 2, 1)\n",
    "plt.scatter(df_exports_imports_netexports_all.exports, df_exports_imports_netexports_all.imports)\n",
    "plt.title('Exports vs Imports')\n",
    "\n",
    "# exports vs net exports\n",
    "plt.subplot(3, 2, 2)\n",
    "plt.scatter(df_exports_imports_netexports_all.exports, df_exports_imports_netexports_all.net_exports)\n",
    "plt.title('Exports vs Net Exports')\n",
    "\n",
    "# exports vs gdp\n",
    "plt.subplot(3, 2, 3)\n",
    "plt.scatter(df_exports_imports_netexports_all.exports, df_gdp_all.gdp)\n",
    "plt.title('Exports vs GDP')\n",
    "\n",
    "# imports vs net exports\n",
    "plt.subplot(3, 2, 4)\n",
    "plt.scatter(df_exports_imports_netexports_all.imports, df_exports_imports_netexports_all.net_exports)\n",
    "plt.title('Imports vs Net Exports')\n",
    "\n",
    "# imports vs gdp\n",
    "plt.subplot(3, 2, 5)\n",
    "plt.scatter(df_exports_imports_netexports_all.imports, df_gdp_all.gdp)\n",
    "plt.title('Imports vs Net Exports')\n",
    "\n",
    "# net exports vs gdp\n",
    "plt.subplot(3, 2, 6)\n",
    "plt.scatter(df_exports_imports_netexports_all.net_exports, df_gdp_all.gdp)\n",
    "plt.title('Net Exports vs GDP')\n",
    "\n",
    "#plt.tight_layout()"
   ]
  },
  {
   "cell_type": "markdown",
   "metadata": {},
   "source": [
    "ii. Briefly describe the scatterplots."
   ]
  },
  {
   "cell_type": "markdown",
   "metadata": {},
   "source": [
    "From the scatterplots, we suspect there is a strong linear correlation between the **exports** and **imports**."
   ]
  },
  {
   "cell_type": "code",
   "execution_count": 218,
   "metadata": {},
   "outputs": [
    {
     "data": {
      "text/html": [
       "<div>\n",
       "<style scoped>\n",
       "    .dataframe tbody tr th:only-of-type {\n",
       "        vertical-align: middle;\n",
       "    }\n",
       "\n",
       "    .dataframe tbody tr th {\n",
       "        vertical-align: top;\n",
       "    }\n",
       "\n",
       "    .dataframe thead th {\n",
       "        text-align: right;\n",
       "    }\n",
       "</style>\n",
       "<table border=\"1\" class=\"dataframe\">\n",
       "  <thead>\n",
       "    <tr style=\"text-align: right;\">\n",
       "      <th></th>\n",
       "      <th>exports</th>\n",
       "      <th>imports</th>\n",
       "      <th>net_exports</th>\n",
       "      <th>gdp</th>\n",
       "    </tr>\n",
       "  </thead>\n",
       "  <tbody>\n",
       "    <tr>\n",
       "      <th>exports</th>\n",
       "      <td>1.000000</td>\n",
       "      <td>0.970302</td>\n",
       "      <td>0.473532</td>\n",
       "      <td>0.772387</td>\n",
       "    </tr>\n",
       "    <tr>\n",
       "      <th>imports</th>\n",
       "      <td>0.970302</td>\n",
       "      <td>1.000000</td>\n",
       "      <td>0.246410</td>\n",
       "      <td>0.618516</td>\n",
       "    </tr>\n",
       "    <tr>\n",
       "      <th>net_exports</th>\n",
       "      <td>0.473532</td>\n",
       "      <td>0.246410</td>\n",
       "      <td>1.000000</td>\n",
       "      <td>0.842490</td>\n",
       "    </tr>\n",
       "    <tr>\n",
       "      <th>gdp</th>\n",
       "      <td>0.772387</td>\n",
       "      <td>0.618516</td>\n",
       "      <td>0.842490</td>\n",
       "      <td>1.000000</td>\n",
       "    </tr>\n",
       "  </tbody>\n",
       "</table>\n",
       "</div>"
      ],
      "text/plain": [
       "              exports   imports  net_exports       gdp\n",
       "exports      1.000000  0.970302     0.473532  0.772387\n",
       "imports      0.970302  1.000000     0.246410  0.618516\n",
       "net_exports  0.473532  0.246410     1.000000  0.842490\n",
       "gdp          0.772387  0.618516     0.842490  1.000000"
      ]
     },
     "execution_count": 218,
     "metadata": {},
     "output_type": "execute_result"
    }
   ],
   "source": [
    "df_exports_imports_netexports_all.merge(df_gdp_all, left_index=True, right_index=True).corr()"
   ]
  },
  {
   "cell_type": "markdown",
   "metadata": {},
   "source": [
    "The previous figure indicates that the correlation between **exports** and **imports** is 0.97. This is very significant.\n",
    "\n",
    "It also shows that the correlation between **net exports** and **GDP** is 0.84. However, the scatterplot of these two variables indicates that the data are crowded in the right up corner. We could not safely get the correlation relationship between these two variables."
   ]
  },
  {
   "cell_type": "markdown",
   "metadata": {},
   "source": [
    "## Task 4\n"
   ]
  },
  {
   "cell_type": "markdown",
   "metadata": {},
   "source": [
    "Create an unstacked and a stacked bar chart showing the total annual net export for each\n",
    "country each year from 2010 to 2018."
   ]
  },
  {
   "cell_type": "markdown",
   "metadata": {},
   "source": [
    "Answer - We will prepare the data for each country each year from 2010 to 2018"
   ]
  },
  {
   "cell_type": "code",
   "execution_count": 6,
   "metadata": {},
   "outputs": [
    {
     "data": {
      "text/html": [
       "<div>\n",
       "<style scoped>\n",
       "    .dataframe tbody tr th:only-of-type {\n",
       "        vertical-align: middle;\n",
       "    }\n",
       "\n",
       "    .dataframe tbody tr th {\n",
       "        vertical-align: top;\n",
       "    }\n",
       "\n",
       "    .dataframe thead th {\n",
       "        text-align: right;\n",
       "    }\n",
       "</style>\n",
       "<table border=\"1\" class=\"dataframe\">\n",
       "  <thead>\n",
       "    <tr style=\"text-align: right;\">\n",
       "      <th></th>\n",
       "      <th>Reporter country</th>\n",
       "      <th>Partner country</th>\n",
       "      <th>Time</th>\n",
       "      <th>Net Exports</th>\n",
       "    </tr>\n",
       "  </thead>\n",
       "  <tbody>\n",
       "    <tr>\n",
       "      <th>0</th>\n",
       "      <td>Australia</td>\n",
       "      <td>Argentina</td>\n",
       "      <td>2011</td>\n",
       "      <td>-3.185925e+08</td>\n",
       "    </tr>\n",
       "    <tr>\n",
       "      <th>1</th>\n",
       "      <td>Australia</td>\n",
       "      <td>Argentina</td>\n",
       "      <td>2012</td>\n",
       "      <td>-5.683728e+08</td>\n",
       "    </tr>\n",
       "    <tr>\n",
       "      <th>2</th>\n",
       "      <td>Australia</td>\n",
       "      <td>Argentina</td>\n",
       "      <td>2013</td>\n",
       "      <td>-7.068296e+08</td>\n",
       "    </tr>\n",
       "    <tr>\n",
       "      <th>3</th>\n",
       "      <td>Australia</td>\n",
       "      <td>Argentina</td>\n",
       "      <td>2014</td>\n",
       "      <td>-6.447370e+08</td>\n",
       "    </tr>\n",
       "    <tr>\n",
       "      <th>4</th>\n",
       "      <td>Australia</td>\n",
       "      <td>Argentina</td>\n",
       "      <td>2015</td>\n",
       "      <td>-5.512483e+08</td>\n",
       "    </tr>\n",
       "    <tr>\n",
       "      <th>...</th>\n",
       "      <td>...</td>\n",
       "      <td>...</td>\n",
       "      <td>...</td>\n",
       "      <td>...</td>\n",
       "    </tr>\n",
       "    <tr>\n",
       "      <th>14768</th>\n",
       "      <td>United States</td>\n",
       "      <td>United Kingdom</td>\n",
       "      <td>2014</td>\n",
       "      <td>-1.122518e+09</td>\n",
       "    </tr>\n",
       "    <tr>\n",
       "      <th>14769</th>\n",
       "      <td>United States</td>\n",
       "      <td>United Kingdom</td>\n",
       "      <td>2015</td>\n",
       "      <td>-2.387252e+09</td>\n",
       "    </tr>\n",
       "    <tr>\n",
       "      <th>14770</th>\n",
       "      <td>United States</td>\n",
       "      <td>United Kingdom</td>\n",
       "      <td>2016</td>\n",
       "      <td>1.791390e+08</td>\n",
       "    </tr>\n",
       "    <tr>\n",
       "      <th>14771</th>\n",
       "      <td>United States</td>\n",
       "      <td>United Kingdom</td>\n",
       "      <td>2017</td>\n",
       "      <td>2.349492e+09</td>\n",
       "    </tr>\n",
       "    <tr>\n",
       "      <th>14772</th>\n",
       "      <td>United States</td>\n",
       "      <td>United Kingdom</td>\n",
       "      <td>2018</td>\n",
       "      <td>4.408696e+09</td>\n",
       "    </tr>\n",
       "  </tbody>\n",
       "</table>\n",
       "<p>14773 rows × 4 columns</p>\n",
       "</div>"
      ],
      "text/plain": [
       "      Reporter country Partner country  Time   Net Exports\n",
       "0            Australia       Argentina  2011 -3.185925e+08\n",
       "1            Australia       Argentina  2012 -5.683728e+08\n",
       "2            Australia       Argentina  2013 -7.068296e+08\n",
       "3            Australia       Argentina  2014 -6.447370e+08\n",
       "4            Australia       Argentina  2015 -5.512483e+08\n",
       "...                ...             ...   ...           ...\n",
       "14768    United States  United Kingdom  2014 -1.122518e+09\n",
       "14769    United States  United Kingdom  2015 -2.387252e+09\n",
       "14770    United States  United Kingdom  2016  1.791390e+08\n",
       "14771    United States  United Kingdom  2017  2.349492e+09\n",
       "14772    United States  United Kingdom  2018  4.408696e+09\n",
       "\n",
       "[14773 rows x 4 columns]"
      ]
     },
     "execution_count": 6,
     "metadata": {},
     "output_type": "execute_result"
    }
   ],
   "source": [
    "# Get the required columns\n",
    "cols = ['Reporter country', 'Partner country', 'Time' ,'Value', 'Flow']\n",
    "key_cols = ['Reporter country', 'Partner country', 'Time', 'Flow']\n",
    "\n",
    "# Filter the year from 2010 t0 2018\n",
    "df_q4 = df_input[((df_oecd_trade.Time>=2010) \n",
    "                       & (df_oecd_trade.Time<=2018))][cols]\n",
    "\n",
    "# Groupby each columns\n",
    "df_q4 = df_q4.groupby(key_cols).sum().unstack('Flow').reset_index()\n",
    "\n",
    "# Set column namess\n",
    "df_q4.columns = ['Reporter country', 'Partner country', 'Time' ,'Exports', 'Imports']\n",
    "\n",
    "# Calcualte the net exports as the exports minus the imports\n",
    "df_q4['Net Exports'] = df_q4['Exports'] - df_q4['Imports']\n",
    "\n",
    "# Drop the columns Exports and Imports\n",
    "df_q4 = df_q4.drop(['Exports', 'Imports'], axis=1)\n",
    "\n",
    "df_q4"
   ]
  },
  {
   "cell_type": "code",
   "execution_count": 7,
   "metadata": {},
   "outputs": [
    {
     "data": {
      "text/plain": [
       "37"
      ]
     },
     "execution_count": 7,
     "metadata": {},
     "output_type": "execute_result"
    }
   ],
   "source": [
    "# Analysis of the data\n",
    "list_export_country =  list(df_q4['Reporter country'].unique())\n",
    "len(list_export_country)"
   ]
  },
  {
   "cell_type": "markdown",
   "metadata": {},
   "source": [
    "1) Unstacked bar chart showing the annual net export for each country each year from 2010 to 2018"
   ]
  },
  {
   "cell_type": "code",
   "execution_count": 8,
   "metadata": {},
   "outputs": [
    {
     "data": {
      "text/plain": [
       "array([[<matplotlib.axes._subplots.AxesSubplot object at 0x1a237cbd50>,\n",
       "        <matplotlib.axes._subplots.AxesSubplot object at 0x1a23795c90>,\n",
       "        <matplotlib.axes._subplots.AxesSubplot object at 0x1a237d3210>,\n",
       "        <matplotlib.axes._subplots.AxesSubplot object at 0x1a2398e9d0>,\n",
       "        <matplotlib.axes._subplots.AxesSubplot object at 0x1a23f00e50>,\n",
       "        <matplotlib.axes._subplots.AxesSubplot object at 0x1a242e5e90>,\n",
       "        <matplotlib.axes._subplots.AxesSubplot object at 0x1a24328350>,\n",
       "        <matplotlib.axes._subplots.AxesSubplot object at 0x1a2435ec10>,\n",
       "        <matplotlib.axes._subplots.AxesSubplot object at 0x1a24367850>,\n",
       "        <matplotlib.axes._subplots.AxesSubplot object at 0x1a2439ed50>,\n",
       "        <matplotlib.axes._subplots.AxesSubplot object at 0x1a2440d9d0>,\n",
       "        <matplotlib.axes._subplots.AxesSubplot object at 0x1a24440e50>,\n",
       "        <matplotlib.axes._subplots.AxesSubplot object at 0x1a24477e90>],\n",
       "       [<matplotlib.axes._subplots.AxesSubplot object at 0x1a244bb790>,\n",
       "        <matplotlib.axes._subplots.AxesSubplot object at 0x1a244f0c10>,\n",
       "        <matplotlib.axes._subplots.AxesSubplot object at 0x1a24524c50>,\n",
       "        <matplotlib.axes._subplots.AxesSubplot object at 0x1a24566550>,\n",
       "        <matplotlib.axes._subplots.AxesSubplot object at 0x1a2459f9d0>,\n",
       "        <matplotlib.axes._subplots.AxesSubplot object at 0x1a245d2e50>,\n",
       "        <matplotlib.axes._subplots.AxesSubplot object at 0x1a24608e90>,\n",
       "        <matplotlib.axes._subplots.AxesSubplot object at 0x1a2464e790>,\n",
       "        <matplotlib.axes._subplots.AxesSubplot object at 0x1a24682c10>,\n",
       "        <matplotlib.axes._subplots.AxesSubplot object at 0x1a246b7c50>,\n",
       "        <matplotlib.axes._subplots.AxesSubplot object at 0x1a246fb550>,\n",
       "        <matplotlib.axes._subplots.AxesSubplot object at 0x1a247319d0>,\n",
       "        <matplotlib.axes._subplots.AxesSubplot object at 0x1a24766e50>],\n",
       "       [<matplotlib.axes._subplots.AxesSubplot object at 0x1a2479ce90>,\n",
       "        <matplotlib.axes._subplots.AxesSubplot object at 0x1a247de790>,\n",
       "        <matplotlib.axes._subplots.AxesSubplot object at 0x1a24814c10>,\n",
       "        <matplotlib.axes._subplots.AxesSubplot object at 0x1a24848c50>,\n",
       "        <matplotlib.axes._subplots.AxesSubplot object at 0x1a2488c550>,\n",
       "        <matplotlib.axes._subplots.AxesSubplot object at 0x1a248c29d0>,\n",
       "        <matplotlib.axes._subplots.AxesSubplot object at 0x1a248f7e50>,\n",
       "        <matplotlib.axes._subplots.AxesSubplot object at 0x1a2492de90>,\n",
       "        <matplotlib.axes._subplots.AxesSubplot object at 0x1a2496f790>,\n",
       "        <matplotlib.axes._subplots.AxesSubplot object at 0x1a249a3c10>,\n",
       "        <matplotlib.axes._subplots.AxesSubplot object at 0x1a249dbc50>,\n",
       "        <matplotlib.axes._subplots.AxesSubplot object at 0x1a24a1e510>,\n",
       "        <matplotlib.axes._subplots.AxesSubplot object at 0x1a24a51d50>]],\n",
       "      dtype=object)"
      ]
     },
     "execution_count": 8,
     "metadata": {},
     "output_type": "execute_result"
    },
    {
     "data": {
      "image/png": "[encoded data removed]",
      "text/plain": [
       "<Figure size 432x288 with 39 Axes>"
      ]
     },
     "metadata": {
      "needs_background": "light"
     },
     "output_type": "display_data"
    }
   ],
   "source": [
    "df_q41 = df_q4.groupby(['Reporter country', 'Time']).sum().reset_index()\n",
    "df_q41 = df_q41.set_index(['Time', 'Reporter country']).unstack('Reporter country').reset_index()\n",
    "df_q41.columns = ['Time','Australia', 'Austria', 'Belgium', 'Canada', 'Chile', 'Czech Republic', 'Denmark', 'Estonia', 'European Union (28 countries)', 'Finland', 'France', 'Germany', 'Greece', 'Hungary', 'Iceland', 'Ireland', 'Israel', 'Italy', 'Japan', 'Korea', 'Latvia', 'Lithuania', 'Luxembourg', 'Mexico', 'Netherlands', 'New Zealand', 'Norway', 'Poland', 'Portugal', 'Slovak Republic', 'Slovenia', 'Spain', 'Sweden', 'Switzerland', 'Turkey', 'United Kingdom', 'United States']\n",
    "df_q41 = df_q41.set_index('Time')\n",
    "df_q41.plot(kind='bar', subplots=True, layout=(3,13), sharey=True, sharex=True)\n",
    "#plt.legend(loc='center left', bbox_to_anchor=(1,0.5))"
   ]
  },
  {
   "cell_type": "markdown",
   "metadata": {},
   "source": [
    "2) Stacked bar chart showing the annual net export for each country each year from 2010 to 2018"
   ]
  },
  {
   "cell_type": "code",
   "execution_count": 9,
   "metadata": {},
   "outputs": [
    {
     "ename": "AttributeError",
     "evalue": "'Line2D' object has no property 'kind'",
     "output_type": "error",
     "traceback": [
      "\u001b[0;31m---------------------------------------------------------------------------\u001b[0m",
      "\u001b[0;31mAttributeError\u001b[0m                            Traceback (most recent call last)",
      "\u001b[0;32m<ipython-input-9-fd8ccb2d22e2>\u001b[0m in \u001b[0;36m<module>\u001b[0;34m\u001b[0m\n\u001b[1;32m      6\u001b[0m     \u001b[0mdf_q4\u001b[0m\u001b[0;34m[\u001b[0m\u001b[0;34m'Reporter country'\u001b[0m\u001b[0;34m]\u001b[0m \u001b[0;34m==\u001b[0m \u001b[0mcountry\u001b[0m\u001b[0;34m]\u001b[0m\u001b[0;34m.\u001b[0m\u001b[0mset_index\u001b[0m\u001b[0;34m(\u001b[0m\u001b[0;34m\u001b[0m\u001b[0;34m\u001b[0m\u001b[0m\n\u001b[1;32m      7\u001b[0m     ['Time', 'Partner country']).unstack(level=-1)\n\u001b[0;32m----> 8\u001b[0;31m \u001b[0mplt\u001b[0m\u001b[0;34m.\u001b[0m\u001b[0mplot\u001b[0m\u001b[0;34m(\u001b[0m\u001b[0;34m[\u001b[0m\u001b[0mdf_country_data_1\u001b[0m\u001b[0;34m,\u001b[0m \u001b[0mdf_country_data_2\u001b[0m\u001b[0;34m]\u001b[0m\u001b[0;34m,\u001b[0m \u001b[0mkind\u001b[0m\u001b[0;34m=\u001b[0m\u001b[0;34m'bar'\u001b[0m\u001b[0;34m,\u001b[0m \u001b[0mstacked\u001b[0m\u001b[0;34m=\u001b[0m\u001b[0;32mTrue\u001b[0m\u001b[0;34m)\u001b[0m\u001b[0;34m\u001b[0m\u001b[0;34m\u001b[0m\u001b[0m\n\u001b[0m\u001b[1;32m      9\u001b[0m \u001b[0;34m\u001b[0m\u001b[0m\n\u001b[1;32m     10\u001b[0m \u001b[0;31m#myplot = df_country_data.plot(kind='bar', stacked=True)\u001b[0m\u001b[0;34m\u001b[0m\u001b[0;34m\u001b[0m\u001b[0;34m\u001b[0m\u001b[0m\n",
      "\u001b[0;32m~/opt/anaconda3/lib/python3.7/site-packages/matplotlib/pyplot.py\u001b[0m in \u001b[0;36mplot\u001b[0;34m(scalex, scaley, data, *args, **kwargs)\u001b[0m\n\u001b[1;32m   2794\u001b[0m     return gca().plot(\n\u001b[1;32m   2795\u001b[0m         *args, scalex=scalex, scaley=scaley, **({\"data\": data} if data\n\u001b[0;32m-> 2796\u001b[0;31m         is not None else {}), **kwargs)\n\u001b[0m\u001b[1;32m   2797\u001b[0m \u001b[0;34m\u001b[0m\u001b[0m\n\u001b[1;32m   2798\u001b[0m \u001b[0;34m\u001b[0m\u001b[0m\n",
      "\u001b[0;32m~/opt/anaconda3/lib/python3.7/site-packages/matplotlib/axes/_axes.py\u001b[0m in \u001b[0;36mplot\u001b[0;34m(self, scalex, scaley, data, *args, **kwargs)\u001b[0m\n\u001b[1;32m   1663\u001b[0m         \"\"\"\n\u001b[1;32m   1664\u001b[0m         \u001b[0mkwargs\u001b[0m \u001b[0;34m=\u001b[0m \u001b[0mcbook\u001b[0m\u001b[0;34m.\u001b[0m\u001b[0mnormalize_kwargs\u001b[0m\u001b[0;34m(\u001b[0m\u001b[0mkwargs\u001b[0m\u001b[0;34m,\u001b[0m \u001b[0mmlines\u001b[0m\u001b[0;34m.\u001b[0m\u001b[0mLine2D\u001b[0m\u001b[0;34m.\u001b[0m\u001b[0m_alias_map\u001b[0m\u001b[0;34m)\u001b[0m\u001b[0;34m\u001b[0m\u001b[0;34m\u001b[0m\u001b[0m\n\u001b[0;32m-> 1665\u001b[0;31m         \u001b[0mlines\u001b[0m \u001b[0;34m=\u001b[0m \u001b[0;34m[\u001b[0m\u001b[0;34m*\u001b[0m\u001b[0mself\u001b[0m\u001b[0;34m.\u001b[0m\u001b[0m_get_lines\u001b[0m\u001b[0;34m(\u001b[0m\u001b[0;34m*\u001b[0m\u001b[0margs\u001b[0m\u001b[0;34m,\u001b[0m \u001b[0mdata\u001b[0m\u001b[0;34m=\u001b[0m\u001b[0mdata\u001b[0m\u001b[0;34m,\u001b[0m \u001b[0;34m**\u001b[0m\u001b[0mkwargs\u001b[0m\u001b[0;34m)\u001b[0m\u001b[0;34m]\u001b[0m\u001b[0;34m\u001b[0m\u001b[0;34m\u001b[0m\u001b[0m\n\u001b[0m\u001b[1;32m   1666\u001b[0m         \u001b[0;32mfor\u001b[0m \u001b[0mline\u001b[0m \u001b[0;32min\u001b[0m \u001b[0mlines\u001b[0m\u001b[0;34m:\u001b[0m\u001b[0;34m\u001b[0m\u001b[0;34m\u001b[0m\u001b[0m\n\u001b[1;32m   1667\u001b[0m             \u001b[0mself\u001b[0m\u001b[0;34m.\u001b[0m\u001b[0madd_line\u001b[0m\u001b[0;34m(\u001b[0m\u001b[0mline\u001b[0m\u001b[0;34m)\u001b[0m\u001b[0;34m\u001b[0m\u001b[0;34m\u001b[0m\u001b[0m\n",
      "\u001b[0;32m~/opt/anaconda3/lib/python3.7/site-packages/matplotlib/axes/_base.py\u001b[0m in \u001b[0;36m__call__\u001b[0;34m(self, *args, **kwargs)\u001b[0m\n\u001b[1;32m    223\u001b[0m                 \u001b[0mthis\u001b[0m \u001b[0;34m+=\u001b[0m \u001b[0margs\u001b[0m\u001b[0;34m[\u001b[0m\u001b[0;36m0\u001b[0m\u001b[0;34m]\u001b[0m\u001b[0;34m,\u001b[0m\u001b[0;34m\u001b[0m\u001b[0;34m\u001b[0m\u001b[0m\n\u001b[1;32m    224\u001b[0m                 \u001b[0margs\u001b[0m \u001b[0;34m=\u001b[0m \u001b[0margs\u001b[0m\u001b[0;34m[\u001b[0m\u001b[0;36m1\u001b[0m\u001b[0;34m:\u001b[0m\u001b[0;34m]\u001b[0m\u001b[0;34m\u001b[0m\u001b[0;34m\u001b[0m\u001b[0m\n\u001b[0;32m--> 225\u001b[0;31m             \u001b[0;32myield\u001b[0m \u001b[0;32mfrom\u001b[0m \u001b[0mself\u001b[0m\u001b[0;34m.\u001b[0m\u001b[0m_plot_args\u001b[0m\u001b[0;34m(\u001b[0m\u001b[0mthis\u001b[0m\u001b[0;34m,\u001b[0m \u001b[0mkwargs\u001b[0m\u001b[0;34m)\u001b[0m\u001b[0;34m\u001b[0m\u001b[0;34m\u001b[0m\u001b[0m\n\u001b[0m\u001b[1;32m    226\u001b[0m \u001b[0;34m\u001b[0m\u001b[0m\n\u001b[1;32m    227\u001b[0m     \u001b[0;32mdef\u001b[0m \u001b[0mget_next_color\u001b[0m\u001b[0;34m(\u001b[0m\u001b[0mself\u001b[0m\u001b[0;34m)\u001b[0m\u001b[0;34m:\u001b[0m\u001b[0;34m\u001b[0m\u001b[0;34m\u001b[0m\u001b[0m\n",
      "\u001b[0;32m~/opt/anaconda3/lib/python3.7/site-packages/matplotlib/axes/_base.py\u001b[0m in \u001b[0;36m_plot_args\u001b[0;34m(self, tup, kwargs)\u001b[0m\n\u001b[1;32m    403\u001b[0m                 \"non-matching shapes is deprecated.\")\n\u001b[1;32m    404\u001b[0m         \u001b[0;32mfor\u001b[0m \u001b[0mj\u001b[0m \u001b[0;32min\u001b[0m \u001b[0mrange\u001b[0m\u001b[0;34m(\u001b[0m\u001b[0mmax\u001b[0m\u001b[0;34m(\u001b[0m\u001b[0mncx\u001b[0m\u001b[0;34m,\u001b[0m \u001b[0mncy\u001b[0m\u001b[0;34m)\u001b[0m\u001b[0;34m)\u001b[0m\u001b[0;34m:\u001b[0m\u001b[0;34m\u001b[0m\u001b[0;34m\u001b[0m\u001b[0m\n\u001b[0;32m--> 405\u001b[0;31m             \u001b[0mseg\u001b[0m \u001b[0;34m=\u001b[0m \u001b[0mfunc\u001b[0m\u001b[0;34m(\u001b[0m\u001b[0mx\u001b[0m\u001b[0;34m[\u001b[0m\u001b[0;34m:\u001b[0m\u001b[0;34m,\u001b[0m \u001b[0mj\u001b[0m \u001b[0;34m%\u001b[0m \u001b[0mncx\u001b[0m\u001b[0;34m]\u001b[0m\u001b[0;34m,\u001b[0m \u001b[0my\u001b[0m\u001b[0;34m[\u001b[0m\u001b[0;34m:\u001b[0m\u001b[0;34m,\u001b[0m \u001b[0mj\u001b[0m \u001b[0;34m%\u001b[0m \u001b[0mncy\u001b[0m\u001b[0;34m]\u001b[0m\u001b[0;34m,\u001b[0m \u001b[0mkw\u001b[0m\u001b[0;34m,\u001b[0m \u001b[0mkwargs\u001b[0m\u001b[0;34m)\u001b[0m\u001b[0;34m\u001b[0m\u001b[0;34m\u001b[0m\u001b[0m\n\u001b[0m\u001b[1;32m    406\u001b[0m             \u001b[0mret\u001b[0m\u001b[0;34m.\u001b[0m\u001b[0mappend\u001b[0m\u001b[0;34m(\u001b[0m\u001b[0mseg\u001b[0m\u001b[0;34m)\u001b[0m\u001b[0;34m\u001b[0m\u001b[0;34m\u001b[0m\u001b[0m\n\u001b[1;32m    407\u001b[0m         \u001b[0;32mreturn\u001b[0m \u001b[0mret\u001b[0m\u001b[0;34m\u001b[0m\u001b[0;34m\u001b[0m\u001b[0m\n",
      "\u001b[0;32m~/opt/anaconda3/lib/python3.7/site-packages/matplotlib/axes/_base.py\u001b[0m in \u001b[0;36m_makeline\u001b[0;34m(self, x, y, kw, kwargs)\u001b[0m\n\u001b[1;32m    310\u001b[0m         \u001b[0mdefault_dict\u001b[0m \u001b[0;34m=\u001b[0m \u001b[0mself\u001b[0m\u001b[0;34m.\u001b[0m\u001b[0m_getdefaults\u001b[0m\u001b[0;34m(\u001b[0m\u001b[0mset\u001b[0m\u001b[0;34m(\u001b[0m\u001b[0;34m)\u001b[0m\u001b[0;34m,\u001b[0m \u001b[0mkw\u001b[0m\u001b[0;34m)\u001b[0m\u001b[0;34m\u001b[0m\u001b[0;34m\u001b[0m\u001b[0m\n\u001b[1;32m    311\u001b[0m         \u001b[0mself\u001b[0m\u001b[0;34m.\u001b[0m\u001b[0m_setdefaults\u001b[0m\u001b[0;34m(\u001b[0m\u001b[0mdefault_dict\u001b[0m\u001b[0;34m,\u001b[0m \u001b[0mkw\u001b[0m\u001b[0;34m)\u001b[0m\u001b[0;34m\u001b[0m\u001b[0;34m\u001b[0m\u001b[0m\n\u001b[0;32m--> 312\u001b[0;31m         \u001b[0mseg\u001b[0m \u001b[0;34m=\u001b[0m \u001b[0mmlines\u001b[0m\u001b[0;34m.\u001b[0m\u001b[0mLine2D\u001b[0m\u001b[0;34m(\u001b[0m\u001b[0mx\u001b[0m\u001b[0;34m,\u001b[0m \u001b[0my\u001b[0m\u001b[0;34m,\u001b[0m \u001b[0;34m**\u001b[0m\u001b[0mkw\u001b[0m\u001b[0;34m)\u001b[0m\u001b[0;34m\u001b[0m\u001b[0;34m\u001b[0m\u001b[0m\n\u001b[0m\u001b[1;32m    313\u001b[0m         \u001b[0;32mreturn\u001b[0m \u001b[0mseg\u001b[0m\u001b[0;34m\u001b[0m\u001b[0;34m\u001b[0m\u001b[0m\n\u001b[1;32m    314\u001b[0m \u001b[0;34m\u001b[0m\u001b[0m\n",
      "\u001b[0;32m~/opt/anaconda3/lib/python3.7/site-packages/matplotlib/lines.py\u001b[0m in \u001b[0;36m__init__\u001b[0;34m(self, xdata, ydata, linewidth, linestyle, color, marker, markersize, markeredgewidth, markeredgecolor, markerfacecolor, markerfacecoloralt, fillstyle, antialiased, dash_capstyle, solid_capstyle, dash_joinstyle, solid_joinstyle, pickradius, drawstyle, markevery, **kwargs)\u001b[0m\n\u001b[1;32m    402\u001b[0m         \u001b[0;31m# update kwargs before updating data to give the caller a\u001b[0m\u001b[0;34m\u001b[0m\u001b[0;34m\u001b[0m\u001b[0;34m\u001b[0m\u001b[0m\n\u001b[1;32m    403\u001b[0m         \u001b[0;31m# chance to init axes (and hence unit support)\u001b[0m\u001b[0;34m\u001b[0m\u001b[0;34m\u001b[0m\u001b[0;34m\u001b[0m\u001b[0m\n\u001b[0;32m--> 404\u001b[0;31m         \u001b[0mself\u001b[0m\u001b[0;34m.\u001b[0m\u001b[0mupdate\u001b[0m\u001b[0;34m(\u001b[0m\u001b[0mkwargs\u001b[0m\u001b[0;34m)\u001b[0m\u001b[0;34m\u001b[0m\u001b[0;34m\u001b[0m\u001b[0m\n\u001b[0m\u001b[1;32m    405\u001b[0m         \u001b[0mself\u001b[0m\u001b[0;34m.\u001b[0m\u001b[0mpickradius\u001b[0m \u001b[0;34m=\u001b[0m \u001b[0mpickradius\u001b[0m\u001b[0;34m\u001b[0m\u001b[0;34m\u001b[0m\u001b[0m\n\u001b[1;32m    406\u001b[0m         \u001b[0mself\u001b[0m\u001b[0;34m.\u001b[0m\u001b[0mind_offset\u001b[0m \u001b[0;34m=\u001b[0m \u001b[0;36m0\u001b[0m\u001b[0;34m\u001b[0m\u001b[0;34m\u001b[0m\u001b[0m\n",
      "\u001b[0;32m~/opt/anaconda3/lib/python3.7/site-packages/matplotlib/artist.py\u001b[0m in \u001b[0;36mupdate\u001b[0;34m(self, props)\u001b[0m\n\u001b[1;32m    972\u001b[0m \u001b[0;34m\u001b[0m\u001b[0m\n\u001b[1;32m    973\u001b[0m         \u001b[0;32mwith\u001b[0m \u001b[0mcbook\u001b[0m\u001b[0;34m.\u001b[0m\u001b[0m_setattr_cm\u001b[0m\u001b[0;34m(\u001b[0m\u001b[0mself\u001b[0m\u001b[0;34m,\u001b[0m \u001b[0meventson\u001b[0m\u001b[0;34m=\u001b[0m\u001b[0;32mFalse\u001b[0m\u001b[0;34m)\u001b[0m\u001b[0;34m:\u001b[0m\u001b[0;34m\u001b[0m\u001b[0;34m\u001b[0m\u001b[0m\n\u001b[0;32m--> 974\u001b[0;31m             \u001b[0mret\u001b[0m \u001b[0;34m=\u001b[0m \u001b[0;34m[\u001b[0m\u001b[0m_update_property\u001b[0m\u001b[0;34m(\u001b[0m\u001b[0mself\u001b[0m\u001b[0;34m,\u001b[0m \u001b[0mk\u001b[0m\u001b[0;34m,\u001b[0m \u001b[0mv\u001b[0m\u001b[0;34m)\u001b[0m \u001b[0;32mfor\u001b[0m \u001b[0mk\u001b[0m\u001b[0;34m,\u001b[0m \u001b[0mv\u001b[0m \u001b[0;32min\u001b[0m \u001b[0mprops\u001b[0m\u001b[0;34m.\u001b[0m\u001b[0mitems\u001b[0m\u001b[0;34m(\u001b[0m\u001b[0;34m)\u001b[0m\u001b[0;34m]\u001b[0m\u001b[0;34m\u001b[0m\u001b[0;34m\u001b[0m\u001b[0m\n\u001b[0m\u001b[1;32m    975\u001b[0m \u001b[0;34m\u001b[0m\u001b[0m\n\u001b[1;32m    976\u001b[0m         \u001b[0;32mif\u001b[0m \u001b[0mlen\u001b[0m\u001b[0;34m(\u001b[0m\u001b[0mret\u001b[0m\u001b[0;34m)\u001b[0m\u001b[0;34m:\u001b[0m\u001b[0;34m\u001b[0m\u001b[0;34m\u001b[0m\u001b[0m\n",
      "\u001b[0;32m~/opt/anaconda3/lib/python3.7/site-packages/matplotlib/artist.py\u001b[0m in \u001b[0;36m<listcomp>\u001b[0;34m(.0)\u001b[0m\n\u001b[1;32m    972\u001b[0m \u001b[0;34m\u001b[0m\u001b[0m\n\u001b[1;32m    973\u001b[0m         \u001b[0;32mwith\u001b[0m \u001b[0mcbook\u001b[0m\u001b[0;34m.\u001b[0m\u001b[0m_setattr_cm\u001b[0m\u001b[0;34m(\u001b[0m\u001b[0mself\u001b[0m\u001b[0;34m,\u001b[0m \u001b[0meventson\u001b[0m\u001b[0;34m=\u001b[0m\u001b[0;32mFalse\u001b[0m\u001b[0;34m)\u001b[0m\u001b[0;34m:\u001b[0m\u001b[0;34m\u001b[0m\u001b[0;34m\u001b[0m\u001b[0m\n\u001b[0;32m--> 974\u001b[0;31m             \u001b[0mret\u001b[0m \u001b[0;34m=\u001b[0m \u001b[0;34m[\u001b[0m\u001b[0m_update_property\u001b[0m\u001b[0;34m(\u001b[0m\u001b[0mself\u001b[0m\u001b[0;34m,\u001b[0m \u001b[0mk\u001b[0m\u001b[0;34m,\u001b[0m \u001b[0mv\u001b[0m\u001b[0;34m)\u001b[0m \u001b[0;32mfor\u001b[0m \u001b[0mk\u001b[0m\u001b[0;34m,\u001b[0m \u001b[0mv\u001b[0m \u001b[0;32min\u001b[0m \u001b[0mprops\u001b[0m\u001b[0;34m.\u001b[0m\u001b[0mitems\u001b[0m\u001b[0;34m(\u001b[0m\u001b[0;34m)\u001b[0m\u001b[0;34m]\u001b[0m\u001b[0;34m\u001b[0m\u001b[0;34m\u001b[0m\u001b[0m\n\u001b[0m\u001b[1;32m    975\u001b[0m \u001b[0;34m\u001b[0m\u001b[0m\n\u001b[1;32m    976\u001b[0m         \u001b[0;32mif\u001b[0m \u001b[0mlen\u001b[0m\u001b[0;34m(\u001b[0m\u001b[0mret\u001b[0m\u001b[0;34m)\u001b[0m\u001b[0;34m:\u001b[0m\u001b[0;34m\u001b[0m\u001b[0;34m\u001b[0m\u001b[0m\n",
      "\u001b[0;32m~/opt/anaconda3/lib/python3.7/site-packages/matplotlib/artist.py\u001b[0m in \u001b[0;36m_update_property\u001b[0;34m(self, k, v)\u001b[0m\n\u001b[1;32m    968\u001b[0m                 \u001b[0;32mif\u001b[0m \u001b[0;32mnot\u001b[0m \u001b[0mcallable\u001b[0m\u001b[0;34m(\u001b[0m\u001b[0mfunc\u001b[0m\u001b[0;34m)\u001b[0m\u001b[0;34m:\u001b[0m\u001b[0;34m\u001b[0m\u001b[0;34m\u001b[0m\u001b[0m\n\u001b[1;32m    969\u001b[0m                     raise AttributeError('{!r} object has no property {!r}'\n\u001b[0;32m--> 970\u001b[0;31m                                          .format(type(self).__name__, k))\n\u001b[0m\u001b[1;32m    971\u001b[0m                 \u001b[0;32mreturn\u001b[0m \u001b[0mfunc\u001b[0m\u001b[0;34m(\u001b[0m\u001b[0mv\u001b[0m\u001b[0;34m)\u001b[0m\u001b[0;34m\u001b[0m\u001b[0;34m\u001b[0m\u001b[0m\n\u001b[1;32m    972\u001b[0m \u001b[0;34m\u001b[0m\u001b[0m\n",
      "\u001b[0;31mAttributeError\u001b[0m: 'Line2D' object has no property 'kind'"
     ]
    },
    {
     "data": {
      "image/png": "[encoded data removed]",
      "text/plain": [
       "<Figure size 432x288 with 1 Axes>"
      ]
     },
     "metadata": {
      "needs_background": "light"
     },
     "output_type": "display_data"
    }
   ],
   "source": [
    "i = 0\n",
    "country = list_export_country[i]\n",
    "df_country_data_1 = df_q4[\n",
    "                (df_q4['Reporter country'] == country)][['Net Exports','Time']].groupby('Time').sum()\n",
    "df_country_data_2 = df_q4[\n",
    "    df_q4['Reporter country'] == country].set_index(\n",
    "    ['Time', 'Partner country']).unstack(level=-1)\n",
    "plt.plot([df_country_data_1, df_country_data_2], kind='bar', stacked=True)\n",
    "\n",
    "#myplot = df_country_data.plot(kind='bar', stacked=True)\n",
    "#myplot.legend(df_q4['Partner country'].unique(), loc='center left', bbox_to_anchor=(1,0.5))"
   ]
  },
  {
   "cell_type": "markdown",
   "metadata": {},
   "source": [
    "## Task 5"
   ]
  },
  {
   "cell_type": "markdown",
   "metadata": {},
   "source": [
    "i. Create a line chart showing the ranks of the top 10 export partner of Canada each year\n",
    "from 2010 to 2018.\n",
    "\n",
    "Hint: pandas.DataFrame.rank might be useful here."
   ]
  },
  {
   "cell_type": "code",
   "execution_count": 10,
   "metadata": {},
   "outputs": [
    {
     "data": {
      "image/png": "[encoded data removed]",
      "text/plain": [
       "<Figure size 432x288 with 1 Axes>"
      ]
     },
     "metadata": {
      "needs_background": "light"
     },
     "output_type": "display_data"
    }
   ],
   "source": [
    "df_canada_export = df_input[(df_input['Reporter country'] == 'Canada') \n",
    "                            & (df_input['Flow'] == 'Exports')\n",
    "                            & (df_input['Time'] >= 2010)\n",
    "                            & (df_input['Time'] <= 2018)][\n",
    "    ['Partner country', 'Time', 'Value']]\n",
    "\n",
    "# loop on year\n",
    "df_canada_export['Rank'] = df_canada_export.groupby(['Time'])['Value'].rank(ascending=False)\n",
    "    \n",
    "df_canada_export_rank = df_canada_export[df_canada_export.Rank <= 10][['Time', 'Partner country', 'Rank']].set_index(['Time', 'Partner country'])\n",
    "\n",
    "myplot = df_canada_export_rank.unstack().plot()\n",
    "myplot.legend(loc='center left', bbox_to_anchor=(1,0.5))\n",
    "plt.gca().invert_yaxis()"
   ]
  },
  {
   "cell_type": "markdown",
   "metadata": {},
   "source": [
    "ii. What is the rank of Japan in export among major Canadian trading partners?\n"
   ]
  },
  {
   "cell_type": "code",
   "execution_count": 11,
   "metadata": {},
   "outputs": [
    {
     "data": {
      "text/html": [
       "<div>\n",
       "<style scoped>\n",
       "    .dataframe tbody tr th:only-of-type {\n",
       "        vertical-align: middle;\n",
       "    }\n",
       "\n",
       "    .dataframe tbody tr th {\n",
       "        vertical-align: top;\n",
       "    }\n",
       "\n",
       "    .dataframe thead th {\n",
       "        text-align: right;\n",
       "    }\n",
       "</style>\n",
       "<table border=\"1\" class=\"dataframe\">\n",
       "  <thead>\n",
       "    <tr style=\"text-align: right;\">\n",
       "      <th></th>\n",
       "      <th>Partner country</th>\n",
       "      <th>Time</th>\n",
       "      <th>Rank</th>\n",
       "    </tr>\n",
       "  </thead>\n",
       "  <tbody>\n",
       "    <tr>\n",
       "      <th>1080</th>\n",
       "      <td>Japan</td>\n",
       "      <td>2010</td>\n",
       "      <td>6.0</td>\n",
       "    </tr>\n",
       "    <tr>\n",
       "      <th>1081</th>\n",
       "      <td>Japan</td>\n",
       "      <td>2011</td>\n",
       "      <td>6.0</td>\n",
       "    </tr>\n",
       "    <tr>\n",
       "      <th>1082</th>\n",
       "      <td>Japan</td>\n",
       "      <td>2012</td>\n",
       "      <td>6.0</td>\n",
       "    </tr>\n",
       "    <tr>\n",
       "      <th>1083</th>\n",
       "      <td>Japan</td>\n",
       "      <td>2013</td>\n",
       "      <td>6.0</td>\n",
       "    </tr>\n",
       "    <tr>\n",
       "      <th>1084</th>\n",
       "      <td>Japan</td>\n",
       "      <td>2014</td>\n",
       "      <td>6.0</td>\n",
       "    </tr>\n",
       "    <tr>\n",
       "      <th>1085</th>\n",
       "      <td>Japan</td>\n",
       "      <td>2015</td>\n",
       "      <td>6.0</td>\n",
       "    </tr>\n",
       "    <tr>\n",
       "      <th>1086</th>\n",
       "      <td>Japan</td>\n",
       "      <td>2016</td>\n",
       "      <td>6.0</td>\n",
       "    </tr>\n",
       "    <tr>\n",
       "      <th>1087</th>\n",
       "      <td>Japan</td>\n",
       "      <td>2017</td>\n",
       "      <td>6.0</td>\n",
       "    </tr>\n",
       "    <tr>\n",
       "      <th>1088</th>\n",
       "      <td>Japan</td>\n",
       "      <td>2018</td>\n",
       "      <td>6.0</td>\n",
       "    </tr>\n",
       "  </tbody>\n",
       "</table>\n",
       "</div>"
      ],
      "text/plain": [
       "     Partner country  Time  Rank\n",
       "1080           Japan  2010   6.0\n",
       "1081           Japan  2011   6.0\n",
       "1082           Japan  2012   6.0\n",
       "1083           Japan  2013   6.0\n",
       "1084           Japan  2014   6.0\n",
       "1085           Japan  2015   6.0\n",
       "1086           Japan  2016   6.0\n",
       "1087           Japan  2017   6.0\n",
       "1088           Japan  2018   6.0"
      ]
     },
     "execution_count": 11,
     "metadata": {},
     "output_type": "execute_result"
    }
   ],
   "source": [
    "df_canada_export[df_canada_export['Partner country']=='Japan'][['Partner country', 'Time', 'Rank']]"
   ]
  },
  {
   "cell_type": "markdown",
   "metadata": {},
   "source": [
    "Answer - The ranks of Japan in export among major Canadian trading partners are always 6 from 2010 to 2018"
   ]
  },
  {
   "cell_type": "markdown",
   "metadata": {},
   "source": [
    "iii. When does China overtake the United Kingdom to be the 2nd largest export partner of\n",
    "Canada?"
   ]
  },
  {
   "cell_type": "code",
   "execution_count": 20,
   "metadata": {},
   "outputs": [],
   "source": [
    "df_q53 = df_canada_export[\n",
    "    (df_canada_export['Partner country'].str.contains('China'))|\n",
    "    (df_canada_export['Partner country'].str.contains('United Kingdom'))][\n",
    "    ['Partner country', 'Time', 'Rank']].set_index(['Time', 'Partner country'])"
   ]
  },
  {
   "cell_type": "code",
   "execution_count": 21,
   "metadata": {},
   "outputs": [],
   "source": [
    "df_q53 = df_q53.unstack()\n",
    "df_q53.columns = ['China', 'UK']\n"
   ]
  },
  {
   "cell_type": "code",
   "execution_count": 22,
   "metadata": {},
   "outputs": [],
   "source": [
    "df_q53['Diff'] = df_q53.China - df_q53.UK"
   ]
  },
  {
   "cell_type": "code",
   "execution_count": 23,
   "metadata": {},
   "outputs": [
    {
     "data": {
      "text/html": [
       "<div>\n",
       "<style scoped>\n",
       "    .dataframe tbody tr th:only-of-type {\n",
       "        vertical-align: middle;\n",
       "    }\n",
       "\n",
       "    .dataframe tbody tr th {\n",
       "        vertical-align: top;\n",
       "    }\n",
       "\n",
       "    .dataframe thead th {\n",
       "        text-align: right;\n",
       "    }\n",
       "</style>\n",
       "<table border=\"1\" class=\"dataframe\">\n",
       "  <thead>\n",
       "    <tr style=\"text-align: right;\">\n",
       "      <th></th>\n",
       "      <th>China</th>\n",
       "      <th>UK</th>\n",
       "      <th>Diff</th>\n",
       "    </tr>\n",
       "    <tr>\n",
       "      <th>Time</th>\n",
       "      <th></th>\n",
       "      <th></th>\n",
       "      <th></th>\n",
       "    </tr>\n",
       "  </thead>\n",
       "  <tbody>\n",
       "    <tr>\n",
       "      <th>2010</th>\n",
       "      <td>5.0</td>\n",
       "      <td>4.0</td>\n",
       "      <td>1.0</td>\n",
       "    </tr>\n",
       "    <tr>\n",
       "      <th>2011</th>\n",
       "      <td>5.0</td>\n",
       "      <td>4.0</td>\n",
       "      <td>1.0</td>\n",
       "    </tr>\n",
       "    <tr>\n",
       "      <th>2012</th>\n",
       "      <td>4.0</td>\n",
       "      <td>5.0</td>\n",
       "      <td>-1.0</td>\n",
       "    </tr>\n",
       "    <tr>\n",
       "      <th>2013</th>\n",
       "      <td>4.0</td>\n",
       "      <td>5.0</td>\n",
       "      <td>-1.0</td>\n",
       "    </tr>\n",
       "    <tr>\n",
       "      <th>2014</th>\n",
       "      <td>4.0</td>\n",
       "      <td>5.0</td>\n",
       "      <td>-1.0</td>\n",
       "    </tr>\n",
       "    <tr>\n",
       "      <th>2015</th>\n",
       "      <td>4.0</td>\n",
       "      <td>5.0</td>\n",
       "      <td>-1.0</td>\n",
       "    </tr>\n",
       "    <tr>\n",
       "      <th>2016</th>\n",
       "      <td>4.0</td>\n",
       "      <td>5.0</td>\n",
       "      <td>-1.0</td>\n",
       "    </tr>\n",
       "    <tr>\n",
       "      <th>2017</th>\n",
       "      <td>4.0</td>\n",
       "      <td>5.0</td>\n",
       "      <td>-1.0</td>\n",
       "    </tr>\n",
       "    <tr>\n",
       "      <th>2018</th>\n",
       "      <td>4.0</td>\n",
       "      <td>5.0</td>\n",
       "      <td>-1.0</td>\n",
       "    </tr>\n",
       "  </tbody>\n",
       "</table>\n",
       "</div>"
      ],
      "text/plain": [
       "      China   UK  Diff\n",
       "Time                  \n",
       "2010    5.0  4.0   1.0\n",
       "2011    5.0  4.0   1.0\n",
       "2012    4.0  5.0  -1.0\n",
       "2013    4.0  5.0  -1.0\n",
       "2014    4.0  5.0  -1.0\n",
       "2015    4.0  5.0  -1.0\n",
       "2016    4.0  5.0  -1.0\n",
       "2017    4.0  5.0  -1.0\n",
       "2018    4.0  5.0  -1.0"
      ]
     },
     "execution_count": 23,
     "metadata": {},
     "output_type": "execute_result"
    }
   ],
   "source": [
    "df_q53"
   ]
  },
  {
   "cell_type": "markdown",
   "metadata": {},
   "source": [
    "Answer - China overtakes the United Kingdom to be the 2nd largest export partner of\n",
    "Canada in 2012."
   ]
  },
  {
   "cell_type": "code",
   "execution_count": null,
   "metadata": {},
   "outputs": [],
   "source": []
  }
 ],
 "metadata": {
  "kernelspec": {
   "display_name": "Python 3",
   "language": "python",
   "name": "python3"
  },
  "language_info": {
   "codemirror_mode": {
    "name": "ipython",
    "version": 3
   },
   "file_extension": ".py",
   "mimetype": "text/x-python",
   "name": "python",
   "nbconvert_exporter": "python",
   "pygments_lexer": "ipython3",
   "version": "3.7.6"
  }
 },
 "nbformat": 4,
 "nbformat_minor": 4
}
